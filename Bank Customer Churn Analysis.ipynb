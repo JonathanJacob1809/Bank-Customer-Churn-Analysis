{
 "cells": [
  {
   "cell_type": "code",
   "execution_count": 94,
   "id": "b6c82900",
   "metadata": {},
   "outputs": [],
   "source": [
    "import warnings\n",
    "warnings.filterwarnings(\"ignore\")\n",
    "import pandas as pd\n",
    "import numpy as np\n",
    "import matplotlib.pyplot as plt\n",
    "import seaborn as sns\n",
    "%matplotlib inline\n",
    "pd.set_option('display.max_columns',50)\n",
    "import matplotlib.patches as mpatches\n",
    "import matplotlib.pyplot as plt\n",
    "import numpy as np\n",
    "import pandas as pd\n",
    "import seaborn as sns\n",
    "\n",
    "import matplotlib.ticker as mtick\n",
    "import matplotlib.patches as mpatches\n",
    "\n",
    "from imblearn.metrics import classification_report_imbalanced\n",
    "from imblearn.over_sampling import SMOTE\n",
    "from imblearn.pipeline import make_pipeline as imbalanced_make_pipeline, Pipeline\n",
    "from imblearn.under_sampling import NearMiss\n",
    "\n",
    "from sklearn.decomposition import PCA, TruncatedSVD\n",
    "from sklearn.ensemble import RandomForestClassifier, GradientBoostingClassifier\n",
    "from sklearn.linear_model import LogisticRegression\n",
    "from sklearn.manifold import TSNE\n",
    "from sklearn.metrics import (accuracy_score, classification_report, f1_score,\n",
    "                             precision_recall_curve, precision_score,\n",
    "                             recall_score, roc_auc_score, roc_curve, RocCurveDisplay)\n",
    "from sklearn.model_selection import (GridSearchCV, KFold, RandomizedSearchCV,\n",
    "                                     ShuffleSplit, StratifiedKFold,\n",
    "                                     StratifiedShuffleSplit, cross_val_predict,\n",
    "                                     cross_val_score, learning_curve,\n",
    "                                     train_test_split)\n",
    "from sklearn.neighbors import KNeighborsClassifier\n",
    "from sklearn.pipeline import make_pipeline\n",
    "from sklearn.preprocessing import RobustScaler, StandardScaler,OneHotEncoder, MinMaxScaler\n",
    "from sklearn.svm import SVC\n",
    "from sklearn.tree import DecisionTreeClassifier\n",
    "\n",
    "from xgboost import XGBClassifier"
   ]
  },
  {
   "cell_type": "code",
   "execution_count": 95,
   "id": "396ca3c8",
   "metadata": {},
   "outputs": [],
   "source": [
    "import os"
   ]
  },
  {
   "cell_type": "code",
   "execution_count": 96,
   "id": "e73921ec",
   "metadata": {},
   "outputs": [],
   "source": [
    "os.chdir('C:\\\\Users\\\\Ajay Jacob\\\\Documents\\\\Python Scripts\\\\Bank Customer Churn Analysis')"
   ]
  },
  {
   "cell_type": "markdown",
   "id": "e8b88a7c",
   "metadata": {},
   "source": [
    "### Importing Dataset"
   ]
  },
  {
   "cell_type": "code",
   "execution_count": 97,
   "id": "14812bdc",
   "metadata": {},
   "outputs": [
    {
     "data": {
      "text/html": [
       "<div>\n",
       "<style scoped>\n",
       "    .dataframe tbody tr th:only-of-type {\n",
       "        vertical-align: middle;\n",
       "    }\n",
       "\n",
       "    .dataframe tbody tr th {\n",
       "        vertical-align: top;\n",
       "    }\n",
       "\n",
       "    .dataframe thead th {\n",
       "        text-align: right;\n",
       "    }\n",
       "</style>\n",
       "<table border=\"1\" class=\"dataframe\">\n",
       "  <thead>\n",
       "    <tr style=\"text-align: right;\">\n",
       "      <th></th>\n",
       "      <th>RowNumber</th>\n",
       "      <th>CustomerId</th>\n",
       "      <th>Surname</th>\n",
       "      <th>CreditScore</th>\n",
       "      <th>Geography</th>\n",
       "      <th>Gender</th>\n",
       "      <th>Age</th>\n",
       "      <th>Tenure</th>\n",
       "      <th>Balance</th>\n",
       "      <th>NumOfProducts</th>\n",
       "      <th>HasCrCard</th>\n",
       "      <th>IsActiveMember</th>\n",
       "      <th>EstimatedSalary</th>\n",
       "      <th>Exited</th>\n",
       "    </tr>\n",
       "  </thead>\n",
       "  <tbody>\n",
       "    <tr>\n",
       "      <th>0</th>\n",
       "      <td>1</td>\n",
       "      <td>15634602</td>\n",
       "      <td>Hargrave</td>\n",
       "      <td>619</td>\n",
       "      <td>France</td>\n",
       "      <td>Female</td>\n",
       "      <td>42</td>\n",
       "      <td>2</td>\n",
       "      <td>0.00</td>\n",
       "      <td>1</td>\n",
       "      <td>1</td>\n",
       "      <td>1</td>\n",
       "      <td>101348.88</td>\n",
       "      <td>1</td>\n",
       "    </tr>\n",
       "    <tr>\n",
       "      <th>1</th>\n",
       "      <td>2</td>\n",
       "      <td>15647311</td>\n",
       "      <td>Hill</td>\n",
       "      <td>608</td>\n",
       "      <td>Spain</td>\n",
       "      <td>Female</td>\n",
       "      <td>41</td>\n",
       "      <td>1</td>\n",
       "      <td>83807.86</td>\n",
       "      <td>1</td>\n",
       "      <td>0</td>\n",
       "      <td>1</td>\n",
       "      <td>112542.58</td>\n",
       "      <td>0</td>\n",
       "    </tr>\n",
       "    <tr>\n",
       "      <th>2</th>\n",
       "      <td>3</td>\n",
       "      <td>15619304</td>\n",
       "      <td>Onio</td>\n",
       "      <td>502</td>\n",
       "      <td>France</td>\n",
       "      <td>Female</td>\n",
       "      <td>42</td>\n",
       "      <td>8</td>\n",
       "      <td>159660.80</td>\n",
       "      <td>3</td>\n",
       "      <td>1</td>\n",
       "      <td>0</td>\n",
       "      <td>113931.57</td>\n",
       "      <td>1</td>\n",
       "    </tr>\n",
       "    <tr>\n",
       "      <th>3</th>\n",
       "      <td>4</td>\n",
       "      <td>15701354</td>\n",
       "      <td>Boni</td>\n",
       "      <td>699</td>\n",
       "      <td>France</td>\n",
       "      <td>Female</td>\n",
       "      <td>39</td>\n",
       "      <td>1</td>\n",
       "      <td>0.00</td>\n",
       "      <td>2</td>\n",
       "      <td>0</td>\n",
       "      <td>0</td>\n",
       "      <td>93826.63</td>\n",
       "      <td>0</td>\n",
       "    </tr>\n",
       "    <tr>\n",
       "      <th>4</th>\n",
       "      <td>5</td>\n",
       "      <td>15737888</td>\n",
       "      <td>Mitchell</td>\n",
       "      <td>850</td>\n",
       "      <td>Spain</td>\n",
       "      <td>Female</td>\n",
       "      <td>43</td>\n",
       "      <td>2</td>\n",
       "      <td>125510.82</td>\n",
       "      <td>1</td>\n",
       "      <td>1</td>\n",
       "      <td>1</td>\n",
       "      <td>79084.10</td>\n",
       "      <td>0</td>\n",
       "    </tr>\n",
       "  </tbody>\n",
       "</table>\n",
       "</div>"
      ],
      "text/plain": [
       "   RowNumber  CustomerId   Surname  CreditScore Geography  Gender  Age  \\\n",
       "0          1    15634602  Hargrave          619    France  Female   42   \n",
       "1          2    15647311      Hill          608     Spain  Female   41   \n",
       "2          3    15619304      Onio          502    France  Female   42   \n",
       "3          4    15701354      Boni          699    France  Female   39   \n",
       "4          5    15737888  Mitchell          850     Spain  Female   43   \n",
       "\n",
       "   Tenure    Balance  NumOfProducts  HasCrCard  IsActiveMember  \\\n",
       "0       2       0.00              1          1               1   \n",
       "1       1   83807.86              1          0               1   \n",
       "2       8  159660.80              3          1               0   \n",
       "3       1       0.00              2          0               0   \n",
       "4       2  125510.82              1          1               1   \n",
       "\n",
       "   EstimatedSalary  Exited  \n",
       "0        101348.88       1  \n",
       "1        112542.58       0  \n",
       "2        113931.57       1  \n",
       "3         93826.63       0  \n",
       "4         79084.10       0  "
      ]
     },
     "execution_count": 97,
     "metadata": {},
     "output_type": "execute_result"
    }
   ],
   "source": [
    "data = pd.read_csv('BankCustomerChurn_Dataset.csv')\n",
    "data.head()"
   ]
  },
  {
   "cell_type": "code",
   "execution_count": 98,
   "id": "66c21781",
   "metadata": {},
   "outputs": [
    {
     "name": "stdout",
     "output_type": "stream",
     "text": [
      "<class 'pandas.core.frame.DataFrame'>\n",
      "RangeIndex: 10000 entries, 0 to 9999\n",
      "Data columns (total 14 columns):\n",
      " #   Column           Non-Null Count  Dtype  \n",
      "---  ------           --------------  -----  \n",
      " 0   RowNumber        10000 non-null  int64  \n",
      " 1   CustomerId       10000 non-null  int64  \n",
      " 2   Surname          10000 non-null  object \n",
      " 3   CreditScore      10000 non-null  int64  \n",
      " 4   Geography        10000 non-null  object \n",
      " 5   Gender           10000 non-null  object \n",
      " 6   Age              10000 non-null  int64  \n",
      " 7   Tenure           10000 non-null  int64  \n",
      " 8   Balance          10000 non-null  float64\n",
      " 9   NumOfProducts    10000 non-null  int64  \n",
      " 10  HasCrCard        10000 non-null  int64  \n",
      " 11  IsActiveMember   10000 non-null  int64  \n",
      " 12  EstimatedSalary  10000 non-null  float64\n",
      " 13  Exited           10000 non-null  int64  \n",
      "dtypes: float64(2), int64(9), object(3)\n",
      "memory usage: 1.1+ MB\n"
     ]
    }
   ],
   "source": [
    "data.info()"
   ]
  },
  {
   "cell_type": "code",
   "execution_count": 99,
   "id": "3474b952",
   "metadata": {},
   "outputs": [
    {
     "data": {
      "text/plain": [
       "(10000, 14)"
      ]
     },
     "execution_count": 99,
     "metadata": {},
     "output_type": "execute_result"
    }
   ],
   "source": [
    "data.shape"
   ]
  },
  {
   "cell_type": "code",
   "execution_count": 100,
   "id": "e30fd5de",
   "metadata": {},
   "outputs": [
    {
     "data": {
      "text/plain": [
       "0"
      ]
     },
     "execution_count": 100,
     "metadata": {},
     "output_type": "execute_result"
    }
   ],
   "source": [
    "data.isnull().sum().sum()"
   ]
  },
  {
   "cell_type": "code",
   "execution_count": 101,
   "id": "27723d49",
   "metadata": {},
   "outputs": [],
   "source": [
    "data.drop(columns=['RowNumber','CustomerId','Surname'],inplace = True)"
   ]
  },
  {
   "cell_type": "code",
   "execution_count": 102,
   "id": "247ff186",
   "metadata": {},
   "outputs": [
    {
     "data": {
      "text/html": [
       "<div>\n",
       "<style scoped>\n",
       "    .dataframe tbody tr th:only-of-type {\n",
       "        vertical-align: middle;\n",
       "    }\n",
       "\n",
       "    .dataframe tbody tr th {\n",
       "        vertical-align: top;\n",
       "    }\n",
       "\n",
       "    .dataframe thead th {\n",
       "        text-align: right;\n",
       "    }\n",
       "</style>\n",
       "<table border=\"1\" class=\"dataframe\">\n",
       "  <thead>\n",
       "    <tr style=\"text-align: right;\">\n",
       "      <th></th>\n",
       "      <th>count</th>\n",
       "      <th>mean</th>\n",
       "      <th>std</th>\n",
       "      <th>min</th>\n",
       "      <th>25%</th>\n",
       "      <th>50%</th>\n",
       "      <th>75%</th>\n",
       "      <th>max</th>\n",
       "    </tr>\n",
       "  </thead>\n",
       "  <tbody>\n",
       "    <tr>\n",
       "      <th>CreditScore</th>\n",
       "      <td>10000.0</td>\n",
       "      <td>650.528800</td>\n",
       "      <td>96.653299</td>\n",
       "      <td>350.00</td>\n",
       "      <td>584.00</td>\n",
       "      <td>652.000</td>\n",
       "      <td>718.0000</td>\n",
       "      <td>850.00</td>\n",
       "    </tr>\n",
       "    <tr>\n",
       "      <th>Age</th>\n",
       "      <td>10000.0</td>\n",
       "      <td>38.921800</td>\n",
       "      <td>10.487806</td>\n",
       "      <td>18.00</td>\n",
       "      <td>32.00</td>\n",
       "      <td>37.000</td>\n",
       "      <td>44.0000</td>\n",
       "      <td>92.00</td>\n",
       "    </tr>\n",
       "    <tr>\n",
       "      <th>Tenure</th>\n",
       "      <td>10000.0</td>\n",
       "      <td>5.012800</td>\n",
       "      <td>2.892174</td>\n",
       "      <td>0.00</td>\n",
       "      <td>3.00</td>\n",
       "      <td>5.000</td>\n",
       "      <td>7.0000</td>\n",
       "      <td>10.00</td>\n",
       "    </tr>\n",
       "    <tr>\n",
       "      <th>Balance</th>\n",
       "      <td>10000.0</td>\n",
       "      <td>76485.889288</td>\n",
       "      <td>62397.405202</td>\n",
       "      <td>0.00</td>\n",
       "      <td>0.00</td>\n",
       "      <td>97198.540</td>\n",
       "      <td>127644.2400</td>\n",
       "      <td>250898.09</td>\n",
       "    </tr>\n",
       "    <tr>\n",
       "      <th>NumOfProducts</th>\n",
       "      <td>10000.0</td>\n",
       "      <td>1.530200</td>\n",
       "      <td>0.581654</td>\n",
       "      <td>1.00</td>\n",
       "      <td>1.00</td>\n",
       "      <td>1.000</td>\n",
       "      <td>2.0000</td>\n",
       "      <td>4.00</td>\n",
       "    </tr>\n",
       "    <tr>\n",
       "      <th>HasCrCard</th>\n",
       "      <td>10000.0</td>\n",
       "      <td>0.705500</td>\n",
       "      <td>0.455840</td>\n",
       "      <td>0.00</td>\n",
       "      <td>0.00</td>\n",
       "      <td>1.000</td>\n",
       "      <td>1.0000</td>\n",
       "      <td>1.00</td>\n",
       "    </tr>\n",
       "    <tr>\n",
       "      <th>IsActiveMember</th>\n",
       "      <td>10000.0</td>\n",
       "      <td>0.515100</td>\n",
       "      <td>0.499797</td>\n",
       "      <td>0.00</td>\n",
       "      <td>0.00</td>\n",
       "      <td>1.000</td>\n",
       "      <td>1.0000</td>\n",
       "      <td>1.00</td>\n",
       "    </tr>\n",
       "    <tr>\n",
       "      <th>EstimatedSalary</th>\n",
       "      <td>10000.0</td>\n",
       "      <td>100090.239881</td>\n",
       "      <td>57510.492818</td>\n",
       "      <td>11.58</td>\n",
       "      <td>51002.11</td>\n",
       "      <td>100193.915</td>\n",
       "      <td>149388.2475</td>\n",
       "      <td>199992.48</td>\n",
       "    </tr>\n",
       "    <tr>\n",
       "      <th>Exited</th>\n",
       "      <td>10000.0</td>\n",
       "      <td>0.203700</td>\n",
       "      <td>0.402769</td>\n",
       "      <td>0.00</td>\n",
       "      <td>0.00</td>\n",
       "      <td>0.000</td>\n",
       "      <td>0.0000</td>\n",
       "      <td>1.00</td>\n",
       "    </tr>\n",
       "  </tbody>\n",
       "</table>\n",
       "</div>"
      ],
      "text/plain": [
       "                   count           mean           std     min       25%  \\\n",
       "CreditScore      10000.0     650.528800     96.653299  350.00    584.00   \n",
       "Age              10000.0      38.921800     10.487806   18.00     32.00   \n",
       "Tenure           10000.0       5.012800      2.892174    0.00      3.00   \n",
       "Balance          10000.0   76485.889288  62397.405202    0.00      0.00   \n",
       "NumOfProducts    10000.0       1.530200      0.581654    1.00      1.00   \n",
       "HasCrCard        10000.0       0.705500      0.455840    0.00      0.00   \n",
       "IsActiveMember   10000.0       0.515100      0.499797    0.00      0.00   \n",
       "EstimatedSalary  10000.0  100090.239881  57510.492818   11.58  51002.11   \n",
       "Exited           10000.0       0.203700      0.402769    0.00      0.00   \n",
       "\n",
       "                        50%          75%        max  \n",
       "CreditScore         652.000     718.0000     850.00  \n",
       "Age                  37.000      44.0000      92.00  \n",
       "Tenure                5.000       7.0000      10.00  \n",
       "Balance           97198.540  127644.2400  250898.09  \n",
       "NumOfProducts         1.000       2.0000       4.00  \n",
       "HasCrCard             1.000       1.0000       1.00  \n",
       "IsActiveMember        1.000       1.0000       1.00  \n",
       "EstimatedSalary  100193.915  149388.2475  199992.48  \n",
       "Exited                0.000       0.0000       1.00  "
      ]
     },
     "execution_count": 102,
     "metadata": {},
     "output_type": "execute_result"
    }
   ],
   "source": [
    "data.describe().T"
   ]
  },
  {
   "cell_type": "code",
   "execution_count": 103,
   "id": "5d9e9428",
   "metadata": {},
   "outputs": [
    {
     "data": {
      "text/html": [
       "<div>\n",
       "<style scoped>\n",
       "    .dataframe tbody tr th:only-of-type {\n",
       "        vertical-align: middle;\n",
       "    }\n",
       "\n",
       "    .dataframe tbody tr th {\n",
       "        vertical-align: top;\n",
       "    }\n",
       "\n",
       "    .dataframe thead th {\n",
       "        text-align: right;\n",
       "    }\n",
       "</style>\n",
       "<table border=\"1\" class=\"dataframe\">\n",
       "  <thead>\n",
       "    <tr style=\"text-align: right;\">\n",
       "      <th></th>\n",
       "      <th>Geography</th>\n",
       "      <th>Gender</th>\n",
       "    </tr>\n",
       "  </thead>\n",
       "  <tbody>\n",
       "    <tr>\n",
       "      <th>count</th>\n",
       "      <td>10000</td>\n",
       "      <td>10000</td>\n",
       "    </tr>\n",
       "    <tr>\n",
       "      <th>unique</th>\n",
       "      <td>3</td>\n",
       "      <td>2</td>\n",
       "    </tr>\n",
       "    <tr>\n",
       "      <th>top</th>\n",
       "      <td>France</td>\n",
       "      <td>Male</td>\n",
       "    </tr>\n",
       "    <tr>\n",
       "      <th>freq</th>\n",
       "      <td>5014</td>\n",
       "      <td>5457</td>\n",
       "    </tr>\n",
       "  </tbody>\n",
       "</table>\n",
       "</div>"
      ],
      "text/plain": [
       "       Geography Gender\n",
       "count      10000  10000\n",
       "unique         3      2\n",
       "top       France   Male\n",
       "freq        5014   5457"
      ]
     },
     "execution_count": 103,
     "metadata": {},
     "output_type": "execute_result"
    }
   ],
   "source": [
    "data.describe(exclude='number')"
   ]
  },
  {
   "cell_type": "markdown",
   "id": "b13ca2e8",
   "metadata": {},
   "source": [
    "### Exploratory Data Analysis"
   ]
  },
  {
   "cell_type": "code",
   "execution_count": 104,
   "id": "9f7eea8c",
   "metadata": {},
   "outputs": [],
   "source": [
    "def age_group(age):\n",
    "    if age <=30:\n",
    "        return 'age_group (18-30)'\n",
    "    elif ((age >30) & (age<=45)):\n",
    "        return 'age_group (31-45)'\n",
    "    elif ((age >45) & (age<=60)):\n",
    "        return 'age_group (46-60)'\n",
    "    elif ((age >61) & (age<=75)):\n",
    "        return 'age_group (61-75)'\n",
    "    else:\n",
    "        return 'age_group (75+)'\n",
    "    \n",
    "\n",
    "def active(cust):\n",
    "    if cust ==0:\n",
    "        return 'Inactive'\n",
    "    else:\n",
    "        return 'Active'"
   ]
  },
  {
   "cell_type": "code",
   "execution_count": 105,
   "id": "5837598b",
   "metadata": {},
   "outputs": [],
   "source": [
    "data['age_group'] = data.Age.apply(age_group)\n",
    "data['active_mem'] = data.IsActiveMember.apply(active)"
   ]
  },
  {
   "cell_type": "code",
   "execution_count": 106,
   "id": "794f5a0a",
   "metadata": {},
   "outputs": [],
   "source": [
    "gender_churn = data.groupby(['Gender','Exited'])[['Exited']].size()\n",
    "gender_per_churn = gender_churn.groupby(level=[0]).apply(lambda x: x/x.sum()).reset_index()\n",
    "gender_per_churn.columns = ['Gender','Exited','Percent']\n",
    "\n",
    "country_churn = data.groupby(['Geography','Exited']).size().reset_index()\n",
    "country_churn.columns = ['Geography','Exited','count']\n",
    "\n",
    "product_churn = data.groupby(['NumOfProducts','Exited']).size().reset_index()\n",
    "product_churn.columns = ['Products','Exited','count']\n",
    "\n",
    "tenure_churn = data.groupby(['Tenure','Exited']).size()\n",
    "tenure_churn.columns = ['Tenure','Exited','count']\n",
    "tenure_churn_per = tenure_churn.groupby(level=[0]).apply(lambda x:x/x.sum()).reset_index()\n",
    "tenure_churn_per.columns = ['Tenure','Exited','percent']\n",
    "\n",
    "balance_churn = data.groupby(['Balance','Exited']).size()\n",
    "balance_churn_per = balance_churn.groupby(level=[0]).apply(lambda x:x/x.sum()).reset_index()\n",
    "balance_churn_per.columns = ['Balance','Exited','percent']\n",
    "\n",
    "cust_age = data.groupby(['age_group','Exited']).size()\n",
    "churn_perc = cust_age.groupby(level=[0]).apply(lambda x:x/x.sum()).reset_index()\n",
    "churn_perc.columns = ['age_group','Exited','churn_percent']\n",
    "\n",
    "active_member = data.groupby(['active_mem','Exited']).size()\n",
    "active_churn = active_member.groupby(level=[0]).apply(lambda x:x/x.sum()).reset_index()\n",
    "active_churn.columns = ['active_mem','Exited','percent']"
   ]
  },
  {
   "cell_type": "code",
   "execution_count": 107,
   "id": "b65d3908",
   "metadata": {},
   "outputs": [],
   "source": [
    "churn_rate = (data['Exited'].sum()*100/len(data))"
   ]
  },
  {
   "cell_type": "code",
   "execution_count": 108,
   "id": "90849067",
   "metadata": {},
   "outputs": [
    {
     "data": {
      "image/png": "[encoded data removed]",
      "text/plain": [
       "<Figure size 720x360 with 2 Axes>"
      ]
     },
     "metadata": {
      "needs_background": "light"
     },
     "output_type": "display_data"
    }
   ],
   "source": [
    "fig = plt.figure(figsize=(10, 5))\n",
    "ax1 = plt.subplot2grid((1, 2), (0, 0))\n",
    "ax2 = plt.subplot2grid((1, 2), (0, 1))\n",
    "value = churn_rate\n",
    "\n",
    "ax1.text(0.5, 0.5, f\"{value:,}\", fontsize=30, ha=\"center\", va=\"bottom\",color = 'green')\n",
    "ax1.axis('off')\n",
    "\n",
    "sizes = [data.Exited[data['Exited']== 1].count(), data.Exited[data['Exited']==0].count()]\n",
    "ax2.pie(sizes,labels=['Exit','Retain'],autopct='%1.1f%%',shadow=True, startangle=90,radius=2.0)\n",
    "\n",
    "plt.tight_layout(pad=3.6,w_pad=6.0,h_pad=5.0,)\n",
    "plt.subplots_adjust(wspace=1.0)\n",
    "fig.suptitle('Churn Rate',fontsize=25,color='brown')\n",
    "\n",
    "plt.show()"
   ]
  },
  {
   "cell_type": "code",
   "execution_count": 109,
   "id": "ceff4f0f",
   "metadata": {},
   "outputs": [
    {
     "data": {
      "image/png": "[encoded data removed]",
      "text/plain": [
       "<Figure size 864x648 with 1 Axes>"
      ]
     },
     "metadata": {
      "needs_background": "light"
     },
     "output_type": "display_data"
    }
   ],
   "source": [
    "plt.figure(figsize=(12,9))\n",
    "sns.barplot(data=churn_perc,x='age_group',y='churn_percent',hue='Exited')\n",
    "plt.title('Churn by Age Group',fontsize=20,color='brown')\n",
    "plt.show()"
   ]
  },
  {
   "cell_type": "code",
   "execution_count": 110,
   "id": "535217f0",
   "metadata": {},
   "outputs": [
    {
     "data": {
      "image/png": "[encoded data removed]",
      "text/plain": [
       "<Figure size 432x288 with 1 Axes>"
      ]
     },
     "metadata": {},
     "output_type": "display_data"
    }
   ],
   "source": [
    "active_churn = data[(data['active_mem']=='Active') & (data['Exited']==1)].shape[0]\n",
    "inactive_churn = data[(data['active_mem']=='Inactive') & (data['Exited']==1)].shape[0]\n",
    "cust = [active_churn,inactive_churn]\n",
    "\n",
    "\n",
    "plt.pie(cust,labels=['Active Member','Inactive Member'],autopct='%1.1f%%',shadow=True,radius=1.0,center=(0,1))\n",
    "plt.title('Distribution of Active Member',fontsize=20,color='brown')\n",
    "plt.tight_layout()"
   ]
  },
  {
   "cell_type": "code",
   "execution_count": 111,
   "id": "a25bf134",
   "metadata": {},
   "outputs": [],
   "source": [
    "credit_churn = data[(data['HasCrCard']==1) & (data['Exited']==1)].shape[0]\n",
    "non_cred_churn = data[(data['HasCrCard']==0) & (data['Exited']==1)].shape[0]"
   ]
  },
  {
   "cell_type": "code",
   "execution_count": 112,
   "id": "766c7998",
   "metadata": {},
   "outputs": [
    {
     "data": {
      "image/png": "[encoded data removed]",
      "text/plain": [
       "<Figure size 1080x1080 with 6 Axes>"
      ]
     },
     "metadata": {
      "needs_background": "light"
     },
     "output_type": "display_data"
    }
   ],
   "source": [
    "fig,axes = plt.subplots(nrows=3,ncols=2,sharex=False,sharey=False,figsize=(15,15))\n",
    "\n",
    "\n",
    "size = [credit_churn,non_cred_churn]\n",
    "axes[0,0].pie(size,labels=['Credit Card Holder','Non credit card holder'],autopct='%1.1f%%',shadow=True,radius=1.0)\n",
    "axes[0,0].set_title('Churn by Credit Card',fontsize = 20,color='brown')\n",
    "\n",
    "churned_balances = data.loc[data['Exited'] == 1, 'Balance']\n",
    "\n",
    "# Plot the histogram\n",
    "sns.kdeplot(churned_balances, shade=True,ax=axes[0,1])\n",
    "sns.histplot(churned_balances, kde=False, color=\"orange\",ax=axes[0,1])\n",
    "axes[0,1].set_title(\"Distribution of Balances for Churned Customers\",color='brown',fontsize=18)\n",
    "axes[0,1].set_xlabel(\"Balance\")\n",
    "axes[0,1].set_ylabel(\"Density\")\n",
    "\n",
    "\n",
    "sns.barplot(data=gender_per_churn,x='Gender',y='Percent',hue='Exited',ax=axes[1,0])\n",
    "axes[1,0].set_title('Churn by gender',fontsize = 20,color='brown')\n",
    "\n",
    "sns.barplot(data=country_churn,x='Geography',y='count',hue='Exited',ax=axes[1,1])\n",
    "axes[1,1].set_title('Churn by Region',fontsize = 20,color='brown')\n",
    "\n",
    "sns.barplot(data=product_churn,x='Products',y='count',hue='Exited',ax=axes[2,0])\n",
    "axes[2,0].set_title('Churn by Product',fontsize = 20,color='brown')\n",
    "\n",
    "sns.barplot(data=tenure_churn_per,x='Tenure',y='percent',hue='Exited',ax=axes[2,1])\n",
    "axes[2,1].set_title('Churn by Tenure',fontsize = 20,color='brown')\n",
    "\n",
    "\n",
    "plt.tight_layout(pad=3.6,w_pad=2.6,h_pad=5.0,)\n",
    "plt.show()"
   ]
  },
  {
   "cell_type": "code",
   "execution_count": 113,
   "id": "52ba51c6",
   "metadata": {},
   "outputs": [
    {
     "data": {
      "text/plain": [
       "CreditScore        0.027094\n",
       "Age                0.285323\n",
       "Tenure             0.014001\n",
       "Balance            0.118533\n",
       "NumOfProducts      0.047820\n",
       "HasCrCard          0.007138\n",
       "IsActiveMember     0.156128\n",
       "EstimatedSalary    0.012097\n",
       "Exited             1.000000\n",
       "dtype: float64"
      ]
     },
     "execution_count": 113,
     "metadata": {},
     "output_type": "execute_result"
    }
   ],
   "source": [
    "corr_val = np.abs(data.corrwith(data['Exited']))\n",
    "corr_val"
   ]
  },
  {
   "cell_type": "markdown",
   "id": "417cd073",
   "metadata": {},
   "source": [
    "### Encoding Categorical variables"
   ]
  },
  {
   "cell_type": "code",
   "execution_count": 114,
   "id": "bd0fd439",
   "metadata": {},
   "outputs": [],
   "source": [
    "data = pd.get_dummies(data,drop_first=True)"
   ]
  },
  {
   "cell_type": "code",
   "execution_count": 115,
   "id": "56214de2",
   "metadata": {},
   "outputs": [
    {
     "data": {
      "text/html": [
       "<div>\n",
       "<style scoped>\n",
       "    .dataframe tbody tr th:only-of-type {\n",
       "        vertical-align: middle;\n",
       "    }\n",
       "\n",
       "    .dataframe tbody tr th {\n",
       "        vertical-align: top;\n",
       "    }\n",
       "\n",
       "    .dataframe thead th {\n",
       "        text-align: right;\n",
       "    }\n",
       "</style>\n",
       "<table border=\"1\" class=\"dataframe\">\n",
       "  <thead>\n",
       "    <tr style=\"text-align: right;\">\n",
       "      <th></th>\n",
       "      <th>CreditScore</th>\n",
       "      <th>Age</th>\n",
       "      <th>Tenure</th>\n",
       "      <th>Balance</th>\n",
       "      <th>NumOfProducts</th>\n",
       "      <th>HasCrCard</th>\n",
       "      <th>IsActiveMember</th>\n",
       "      <th>EstimatedSalary</th>\n",
       "      <th>Exited</th>\n",
       "      <th>Geography_Germany</th>\n",
       "      <th>Geography_Spain</th>\n",
       "      <th>Gender_Male</th>\n",
       "      <th>age_group_age_group (31-45)</th>\n",
       "      <th>age_group_age_group (46-60)</th>\n",
       "      <th>age_group_age_group (61-75)</th>\n",
       "      <th>age_group_age_group (75+)</th>\n",
       "      <th>active_mem_Inactive</th>\n",
       "    </tr>\n",
       "  </thead>\n",
       "  <tbody>\n",
       "    <tr>\n",
       "      <th>0</th>\n",
       "      <td>619</td>\n",
       "      <td>42</td>\n",
       "      <td>2</td>\n",
       "      <td>0.00</td>\n",
       "      <td>1</td>\n",
       "      <td>1</td>\n",
       "      <td>1</td>\n",
       "      <td>101348.88</td>\n",
       "      <td>1</td>\n",
       "      <td>0</td>\n",
       "      <td>0</td>\n",
       "      <td>0</td>\n",
       "      <td>1</td>\n",
       "      <td>0</td>\n",
       "      <td>0</td>\n",
       "      <td>0</td>\n",
       "      <td>0</td>\n",
       "    </tr>\n",
       "    <tr>\n",
       "      <th>1</th>\n",
       "      <td>608</td>\n",
       "      <td>41</td>\n",
       "      <td>1</td>\n",
       "      <td>83807.86</td>\n",
       "      <td>1</td>\n",
       "      <td>0</td>\n",
       "      <td>1</td>\n",
       "      <td>112542.58</td>\n",
       "      <td>0</td>\n",
       "      <td>0</td>\n",
       "      <td>1</td>\n",
       "      <td>0</td>\n",
       "      <td>1</td>\n",
       "      <td>0</td>\n",
       "      <td>0</td>\n",
       "      <td>0</td>\n",
       "      <td>0</td>\n",
       "    </tr>\n",
       "    <tr>\n",
       "      <th>2</th>\n",
       "      <td>502</td>\n",
       "      <td>42</td>\n",
       "      <td>8</td>\n",
       "      <td>159660.80</td>\n",
       "      <td>3</td>\n",
       "      <td>1</td>\n",
       "      <td>0</td>\n",
       "      <td>113931.57</td>\n",
       "      <td>1</td>\n",
       "      <td>0</td>\n",
       "      <td>0</td>\n",
       "      <td>0</td>\n",
       "      <td>1</td>\n",
       "      <td>0</td>\n",
       "      <td>0</td>\n",
       "      <td>0</td>\n",
       "      <td>1</td>\n",
       "    </tr>\n",
       "    <tr>\n",
       "      <th>3</th>\n",
       "      <td>699</td>\n",
       "      <td>39</td>\n",
       "      <td>1</td>\n",
       "      <td>0.00</td>\n",
       "      <td>2</td>\n",
       "      <td>0</td>\n",
       "      <td>0</td>\n",
       "      <td>93826.63</td>\n",
       "      <td>0</td>\n",
       "      <td>0</td>\n",
       "      <td>0</td>\n",
       "      <td>0</td>\n",
       "      <td>1</td>\n",
       "      <td>0</td>\n",
       "      <td>0</td>\n",
       "      <td>0</td>\n",
       "      <td>1</td>\n",
       "    </tr>\n",
       "    <tr>\n",
       "      <th>4</th>\n",
       "      <td>850</td>\n",
       "      <td>43</td>\n",
       "      <td>2</td>\n",
       "      <td>125510.82</td>\n",
       "      <td>1</td>\n",
       "      <td>1</td>\n",
       "      <td>1</td>\n",
       "      <td>79084.10</td>\n",
       "      <td>0</td>\n",
       "      <td>0</td>\n",
       "      <td>1</td>\n",
       "      <td>0</td>\n",
       "      <td>1</td>\n",
       "      <td>0</td>\n",
       "      <td>0</td>\n",
       "      <td>0</td>\n",
       "      <td>0</td>\n",
       "    </tr>\n",
       "    <tr>\n",
       "      <th>...</th>\n",
       "      <td>...</td>\n",
       "      <td>...</td>\n",
       "      <td>...</td>\n",
       "      <td>...</td>\n",
       "      <td>...</td>\n",
       "      <td>...</td>\n",
       "      <td>...</td>\n",
       "      <td>...</td>\n",
       "      <td>...</td>\n",
       "      <td>...</td>\n",
       "      <td>...</td>\n",
       "      <td>...</td>\n",
       "      <td>...</td>\n",
       "      <td>...</td>\n",
       "      <td>...</td>\n",
       "      <td>...</td>\n",
       "      <td>...</td>\n",
       "    </tr>\n",
       "    <tr>\n",
       "      <th>9995</th>\n",
       "      <td>771</td>\n",
       "      <td>39</td>\n",
       "      <td>5</td>\n",
       "      <td>0.00</td>\n",
       "      <td>2</td>\n",
       "      <td>1</td>\n",
       "      <td>0</td>\n",
       "      <td>96270.64</td>\n",
       "      <td>0</td>\n",
       "      <td>0</td>\n",
       "      <td>0</td>\n",
       "      <td>1</td>\n",
       "      <td>1</td>\n",
       "      <td>0</td>\n",
       "      <td>0</td>\n",
       "      <td>0</td>\n",
       "      <td>1</td>\n",
       "    </tr>\n",
       "    <tr>\n",
       "      <th>9996</th>\n",
       "      <td>516</td>\n",
       "      <td>35</td>\n",
       "      <td>10</td>\n",
       "      <td>57369.61</td>\n",
       "      <td>1</td>\n",
       "      <td>1</td>\n",
       "      <td>1</td>\n",
       "      <td>101699.77</td>\n",
       "      <td>0</td>\n",
       "      <td>0</td>\n",
       "      <td>0</td>\n",
       "      <td>1</td>\n",
       "      <td>1</td>\n",
       "      <td>0</td>\n",
       "      <td>0</td>\n",
       "      <td>0</td>\n",
       "      <td>0</td>\n",
       "    </tr>\n",
       "    <tr>\n",
       "      <th>9997</th>\n",
       "      <td>709</td>\n",
       "      <td>36</td>\n",
       "      <td>7</td>\n",
       "      <td>0.00</td>\n",
       "      <td>1</td>\n",
       "      <td>0</td>\n",
       "      <td>1</td>\n",
       "      <td>42085.58</td>\n",
       "      <td>1</td>\n",
       "      <td>0</td>\n",
       "      <td>0</td>\n",
       "      <td>0</td>\n",
       "      <td>1</td>\n",
       "      <td>0</td>\n",
       "      <td>0</td>\n",
       "      <td>0</td>\n",
       "      <td>0</td>\n",
       "    </tr>\n",
       "    <tr>\n",
       "      <th>9998</th>\n",
       "      <td>772</td>\n",
       "      <td>42</td>\n",
       "      <td>3</td>\n",
       "      <td>75075.31</td>\n",
       "      <td>2</td>\n",
       "      <td>1</td>\n",
       "      <td>0</td>\n",
       "      <td>92888.52</td>\n",
       "      <td>1</td>\n",
       "      <td>1</td>\n",
       "      <td>0</td>\n",
       "      <td>1</td>\n",
       "      <td>1</td>\n",
       "      <td>0</td>\n",
       "      <td>0</td>\n",
       "      <td>0</td>\n",
       "      <td>1</td>\n",
       "    </tr>\n",
       "    <tr>\n",
       "      <th>9999</th>\n",
       "      <td>792</td>\n",
       "      <td>28</td>\n",
       "      <td>4</td>\n",
       "      <td>130142.79</td>\n",
       "      <td>1</td>\n",
       "      <td>1</td>\n",
       "      <td>0</td>\n",
       "      <td>38190.78</td>\n",
       "      <td>0</td>\n",
       "      <td>0</td>\n",
       "      <td>0</td>\n",
       "      <td>0</td>\n",
       "      <td>0</td>\n",
       "      <td>0</td>\n",
       "      <td>0</td>\n",
       "      <td>0</td>\n",
       "      <td>1</td>\n",
       "    </tr>\n",
       "  </tbody>\n",
       "</table>\n",
       "<p>10000 rows × 17 columns</p>\n",
       "</div>"
      ],
      "text/plain": [
       "      CreditScore  Age  Tenure    Balance  NumOfProducts  HasCrCard  \\\n",
       "0             619   42       2       0.00              1          1   \n",
       "1             608   41       1   83807.86              1          0   \n",
       "2             502   42       8  159660.80              3          1   \n",
       "3             699   39       1       0.00              2          0   \n",
       "4             850   43       2  125510.82              1          1   \n",
       "...           ...  ...     ...        ...            ...        ...   \n",
       "9995          771   39       5       0.00              2          1   \n",
       "9996          516   35      10   57369.61              1          1   \n",
       "9997          709   36       7       0.00              1          0   \n",
       "9998          772   42       3   75075.31              2          1   \n",
       "9999          792   28       4  130142.79              1          1   \n",
       "\n",
       "      IsActiveMember  EstimatedSalary  Exited  Geography_Germany  \\\n",
       "0                  1        101348.88       1                  0   \n",
       "1                  1        112542.58       0                  0   \n",
       "2                  0        113931.57       1                  0   \n",
       "3                  0         93826.63       0                  0   \n",
       "4                  1         79084.10       0                  0   \n",
       "...              ...              ...     ...                ...   \n",
       "9995               0         96270.64       0                  0   \n",
       "9996               1        101699.77       0                  0   \n",
       "9997               1         42085.58       1                  0   \n",
       "9998               0         92888.52       1                  1   \n",
       "9999               0         38190.78       0                  0   \n",
       "\n",
       "      Geography_Spain  Gender_Male  age_group_age_group (31-45)  \\\n",
       "0                   0            0                            1   \n",
       "1                   1            0                            1   \n",
       "2                   0            0                            1   \n",
       "3                   0            0                            1   \n",
       "4                   1            0                            1   \n",
       "...               ...          ...                          ...   \n",
       "9995                0            1                            1   \n",
       "9996                0            1                            1   \n",
       "9997                0            0                            1   \n",
       "9998                0            1                            1   \n",
       "9999                0            0                            0   \n",
       "\n",
       "      age_group_age_group (46-60)  age_group_age_group (61-75)  \\\n",
       "0                               0                            0   \n",
       "1                               0                            0   \n",
       "2                               0                            0   \n",
       "3                               0                            0   \n",
       "4                               0                            0   \n",
       "...                           ...                          ...   \n",
       "9995                            0                            0   \n",
       "9996                            0                            0   \n",
       "9997                            0                            0   \n",
       "9998                            0                            0   \n",
       "9999                            0                            0   \n",
       "\n",
       "      age_group_age_group (75+)  active_mem_Inactive  \n",
       "0                             0                    0  \n",
       "1                             0                    0  \n",
       "2                             0                    1  \n",
       "3                             0                    1  \n",
       "4                             0                    0  \n",
       "...                         ...                  ...  \n",
       "9995                          0                    1  \n",
       "9996                          0                    0  \n",
       "9997                          0                    0  \n",
       "9998                          0                    1  \n",
       "9999                          0                    1  \n",
       "\n",
       "[10000 rows x 17 columns]"
      ]
     },
     "execution_count": 115,
     "metadata": {},
     "output_type": "execute_result"
    }
   ],
   "source": [
    "data"
   ]
  },
  {
   "cell_type": "code",
   "execution_count": 116,
   "id": "89e0499f",
   "metadata": {},
   "outputs": [],
   "source": [
    "data.drop(columns=['age_group_age_group (31-45)','age_group_age_group (46-60)','age_group_age_group (61-75)','age_group_age_group (75+)','active_mem_Inactive'],inplace=True)"
   ]
  },
  {
   "cell_type": "code",
   "execution_count": 117,
   "id": "9e4e0e39",
   "metadata": {},
   "outputs": [
    {
     "data": {
      "text/html": [
       "<div>\n",
       "<style scoped>\n",
       "    .dataframe tbody tr th:only-of-type {\n",
       "        vertical-align: middle;\n",
       "    }\n",
       "\n",
       "    .dataframe tbody tr th {\n",
       "        vertical-align: top;\n",
       "    }\n",
       "\n",
       "    .dataframe thead th {\n",
       "        text-align: right;\n",
       "    }\n",
       "</style>\n",
       "<table border=\"1\" class=\"dataframe\">\n",
       "  <thead>\n",
       "    <tr style=\"text-align: right;\">\n",
       "      <th></th>\n",
       "      <th>CreditScore</th>\n",
       "      <th>Age</th>\n",
       "      <th>Tenure</th>\n",
       "      <th>Balance</th>\n",
       "      <th>NumOfProducts</th>\n",
       "      <th>HasCrCard</th>\n",
       "      <th>IsActiveMember</th>\n",
       "      <th>EstimatedSalary</th>\n",
       "      <th>Exited</th>\n",
       "      <th>Geography_Germany</th>\n",
       "      <th>Geography_Spain</th>\n",
       "      <th>Gender_Male</th>\n",
       "    </tr>\n",
       "  </thead>\n",
       "  <tbody>\n",
       "    <tr>\n",
       "      <th>0</th>\n",
       "      <td>619</td>\n",
       "      <td>42</td>\n",
       "      <td>2</td>\n",
       "      <td>0.00</td>\n",
       "      <td>1</td>\n",
       "      <td>1</td>\n",
       "      <td>1</td>\n",
       "      <td>101348.88</td>\n",
       "      <td>1</td>\n",
       "      <td>0</td>\n",
       "      <td>0</td>\n",
       "      <td>0</td>\n",
       "    </tr>\n",
       "    <tr>\n",
       "      <th>1</th>\n",
       "      <td>608</td>\n",
       "      <td>41</td>\n",
       "      <td>1</td>\n",
       "      <td>83807.86</td>\n",
       "      <td>1</td>\n",
       "      <td>0</td>\n",
       "      <td>1</td>\n",
       "      <td>112542.58</td>\n",
       "      <td>0</td>\n",
       "      <td>0</td>\n",
       "      <td>1</td>\n",
       "      <td>0</td>\n",
       "    </tr>\n",
       "    <tr>\n",
       "      <th>2</th>\n",
       "      <td>502</td>\n",
       "      <td>42</td>\n",
       "      <td>8</td>\n",
       "      <td>159660.80</td>\n",
       "      <td>3</td>\n",
       "      <td>1</td>\n",
       "      <td>0</td>\n",
       "      <td>113931.57</td>\n",
       "      <td>1</td>\n",
       "      <td>0</td>\n",
       "      <td>0</td>\n",
       "      <td>0</td>\n",
       "    </tr>\n",
       "    <tr>\n",
       "      <th>3</th>\n",
       "      <td>699</td>\n",
       "      <td>39</td>\n",
       "      <td>1</td>\n",
       "      <td>0.00</td>\n",
       "      <td>2</td>\n",
       "      <td>0</td>\n",
       "      <td>0</td>\n",
       "      <td>93826.63</td>\n",
       "      <td>0</td>\n",
       "      <td>0</td>\n",
       "      <td>0</td>\n",
       "      <td>0</td>\n",
       "    </tr>\n",
       "    <tr>\n",
       "      <th>4</th>\n",
       "      <td>850</td>\n",
       "      <td>43</td>\n",
       "      <td>2</td>\n",
       "      <td>125510.82</td>\n",
       "      <td>1</td>\n",
       "      <td>1</td>\n",
       "      <td>1</td>\n",
       "      <td>79084.10</td>\n",
       "      <td>0</td>\n",
       "      <td>0</td>\n",
       "      <td>1</td>\n",
       "      <td>0</td>\n",
       "    </tr>\n",
       "    <tr>\n",
       "      <th>...</th>\n",
       "      <td>...</td>\n",
       "      <td>...</td>\n",
       "      <td>...</td>\n",
       "      <td>...</td>\n",
       "      <td>...</td>\n",
       "      <td>...</td>\n",
       "      <td>...</td>\n",
       "      <td>...</td>\n",
       "      <td>...</td>\n",
       "      <td>...</td>\n",
       "      <td>...</td>\n",
       "      <td>...</td>\n",
       "    </tr>\n",
       "    <tr>\n",
       "      <th>9995</th>\n",
       "      <td>771</td>\n",
       "      <td>39</td>\n",
       "      <td>5</td>\n",
       "      <td>0.00</td>\n",
       "      <td>2</td>\n",
       "      <td>1</td>\n",
       "      <td>0</td>\n",
       "      <td>96270.64</td>\n",
       "      <td>0</td>\n",
       "      <td>0</td>\n",
       "      <td>0</td>\n",
       "      <td>1</td>\n",
       "    </tr>\n",
       "    <tr>\n",
       "      <th>9996</th>\n",
       "      <td>516</td>\n",
       "      <td>35</td>\n",
       "      <td>10</td>\n",
       "      <td>57369.61</td>\n",
       "      <td>1</td>\n",
       "      <td>1</td>\n",
       "      <td>1</td>\n",
       "      <td>101699.77</td>\n",
       "      <td>0</td>\n",
       "      <td>0</td>\n",
       "      <td>0</td>\n",
       "      <td>1</td>\n",
       "    </tr>\n",
       "    <tr>\n",
       "      <th>9997</th>\n",
       "      <td>709</td>\n",
       "      <td>36</td>\n",
       "      <td>7</td>\n",
       "      <td>0.00</td>\n",
       "      <td>1</td>\n",
       "      <td>0</td>\n",
       "      <td>1</td>\n",
       "      <td>42085.58</td>\n",
       "      <td>1</td>\n",
       "      <td>0</td>\n",
       "      <td>0</td>\n",
       "      <td>0</td>\n",
       "    </tr>\n",
       "    <tr>\n",
       "      <th>9998</th>\n",
       "      <td>772</td>\n",
       "      <td>42</td>\n",
       "      <td>3</td>\n",
       "      <td>75075.31</td>\n",
       "      <td>2</td>\n",
       "      <td>1</td>\n",
       "      <td>0</td>\n",
       "      <td>92888.52</td>\n",
       "      <td>1</td>\n",
       "      <td>1</td>\n",
       "      <td>0</td>\n",
       "      <td>1</td>\n",
       "    </tr>\n",
       "    <tr>\n",
       "      <th>9999</th>\n",
       "      <td>792</td>\n",
       "      <td>28</td>\n",
       "      <td>4</td>\n",
       "      <td>130142.79</td>\n",
       "      <td>1</td>\n",
       "      <td>1</td>\n",
       "      <td>0</td>\n",
       "      <td>38190.78</td>\n",
       "      <td>0</td>\n",
       "      <td>0</td>\n",
       "      <td>0</td>\n",
       "      <td>0</td>\n",
       "    </tr>\n",
       "  </tbody>\n",
       "</table>\n",
       "<p>10000 rows × 12 columns</p>\n",
       "</div>"
      ],
      "text/plain": [
       "      CreditScore  Age  Tenure    Balance  NumOfProducts  HasCrCard  \\\n",
       "0             619   42       2       0.00              1          1   \n",
       "1             608   41       1   83807.86              1          0   \n",
       "2             502   42       8  159660.80              3          1   \n",
       "3             699   39       1       0.00              2          0   \n",
       "4             850   43       2  125510.82              1          1   \n",
       "...           ...  ...     ...        ...            ...        ...   \n",
       "9995          771   39       5       0.00              2          1   \n",
       "9996          516   35      10   57369.61              1          1   \n",
       "9997          709   36       7       0.00              1          0   \n",
       "9998          772   42       3   75075.31              2          1   \n",
       "9999          792   28       4  130142.79              1          1   \n",
       "\n",
       "      IsActiveMember  EstimatedSalary  Exited  Geography_Germany  \\\n",
       "0                  1        101348.88       1                  0   \n",
       "1                  1        112542.58       0                  0   \n",
       "2                  0        113931.57       1                  0   \n",
       "3                  0         93826.63       0                  0   \n",
       "4                  1         79084.10       0                  0   \n",
       "...              ...              ...     ...                ...   \n",
       "9995               0         96270.64       0                  0   \n",
       "9996               1        101699.77       0                  0   \n",
       "9997               1         42085.58       1                  0   \n",
       "9998               0         92888.52       1                  1   \n",
       "9999               0         38190.78       0                  0   \n",
       "\n",
       "      Geography_Spain  Gender_Male  \n",
       "0                   0            0  \n",
       "1                   1            0  \n",
       "2                   0            0  \n",
       "3                   0            0  \n",
       "4                   1            0  \n",
       "...               ...          ...  \n",
       "9995                0            1  \n",
       "9996                0            1  \n",
       "9997                0            0  \n",
       "9998                0            1  \n",
       "9999                0            0  \n",
       "\n",
       "[10000 rows x 12 columns]"
      ]
     },
     "execution_count": 117,
     "metadata": {},
     "output_type": "execute_result"
    }
   ],
   "source": [
    "data"
   ]
  },
  {
   "cell_type": "code",
   "execution_count": 118,
   "id": "571e0be1",
   "metadata": {},
   "outputs": [
    {
     "data": {
      "image/png": "[encoded data removed]",
      "text/plain": [
       "<Figure size 1080x1080 with 2 Axes>"
      ]
     },
     "metadata": {
      "needs_background": "light"
     },
     "output_type": "display_data"
    }
   ],
   "source": [
    "plt.figure(figsize=(15,15))\n",
    "sns.heatmap(data.corr(),annot=True,cmap=\"PuBuGn\")\n",
    "\n",
    "plt.show()"
   ]
  },
  {
   "cell_type": "markdown",
   "id": "815feb35",
   "metadata": {},
   "source": [
    "### Splitting the dataset into Features (x) and Target (y)"
   ]
  },
  {
   "cell_type": "code",
   "execution_count": 119,
   "id": "f0cd8a37",
   "metadata": {},
   "outputs": [],
   "source": [
    "x= data[data.columns.difference(['Exited'])]\n",
    "y = data['Exited']"
   ]
  },
  {
   "cell_type": "code",
   "execution_count": 120,
   "id": "6fa926a1",
   "metadata": {},
   "outputs": [
    {
     "name": "stdout",
     "output_type": "stream",
     "text": [
      "shape of x: (10000, 11)\n",
      "shape of y: (10000,)\n"
     ]
    }
   ],
   "source": [
    "print('shape of x:',x.shape)\n",
    "print('shape of y:',y.shape)"
   ]
  },
  {
   "cell_type": "markdown",
   "id": "086f2595",
   "metadata": {},
   "source": [
    "### Splitting into Testing and Training datasets"
   ]
  },
  {
   "cell_type": "code",
   "execution_count": 121,
   "id": "eccd4732",
   "metadata": {},
   "outputs": [],
   "source": [
    "train_x,test_x,train_y,test_y = train_test_split(x,y,test_size=0.3,random_state=123)"
   ]
  },
  {
   "cell_type": "code",
   "execution_count": 122,
   "id": "8e631128",
   "metadata": {},
   "outputs": [
    {
     "name": "stdout",
     "output_type": "stream",
     "text": [
      "shape of train_x: (7000, 11)\n",
      "shape of train_y: (7000,)\n",
      "shape of test_x: (3000, 11)\n",
      "shape of test_y: (3000,)\n"
     ]
    }
   ],
   "source": [
    "print('shape of train_x:',train_x.shape)\n",
    "print('shape of train_y:',train_y.shape)\n",
    "print('shape of test_x:',test_x.shape)\n",
    "print('shape of test_y:',test_y.shape)"
   ]
  },
  {
   "cell_type": "markdown",
   "id": "2ab98f7a",
   "metadata": {},
   "source": [
    "### Resampling"
   ]
  },
  {
   "cell_type": "code",
   "execution_count": 123,
   "id": "56e72e3d",
   "metadata": {},
   "outputs": [],
   "source": [
    "x_res,y_res = SMOTE().fit_resample(x,y)"
   ]
  },
  {
   "cell_type": "code",
   "execution_count": 124,
   "id": "fe90956b",
   "metadata": {},
   "outputs": [
    {
     "data": {
      "text/plain": [
       "1    7963\n",
       "0    7963\n",
       "Name: Exited, dtype: int64"
      ]
     },
     "execution_count": 124,
     "metadata": {},
     "output_type": "execute_result"
    }
   ],
   "source": [
    "y_res.value_counts()"
   ]
  },
  {
   "cell_type": "code",
   "execution_count": 125,
   "id": "5abef7a9",
   "metadata": {},
   "outputs": [
    {
     "data": {
      "text/html": [
       "<div>\n",
       "<style scoped>\n",
       "    .dataframe tbody tr th:only-of-type {\n",
       "        vertical-align: middle;\n",
       "    }\n",
       "\n",
       "    .dataframe tbody tr th {\n",
       "        vertical-align: top;\n",
       "    }\n",
       "\n",
       "    .dataframe thead th {\n",
       "        text-align: right;\n",
       "    }\n",
       "</style>\n",
       "<table border=\"1\" class=\"dataframe\">\n",
       "  <thead>\n",
       "    <tr style=\"text-align: right;\">\n",
       "      <th></th>\n",
       "      <th>Age</th>\n",
       "      <th>Balance</th>\n",
       "      <th>CreditScore</th>\n",
       "      <th>EstimatedSalary</th>\n",
       "      <th>Gender_Male</th>\n",
       "      <th>Geography_Germany</th>\n",
       "      <th>Geography_Spain</th>\n",
       "      <th>HasCrCard</th>\n",
       "      <th>IsActiveMember</th>\n",
       "      <th>NumOfProducts</th>\n",
       "      <th>Tenure</th>\n",
       "    </tr>\n",
       "  </thead>\n",
       "  <tbody>\n",
       "    <tr>\n",
       "      <th>0</th>\n",
       "      <td>42</td>\n",
       "      <td>0.000000</td>\n",
       "      <td>619</td>\n",
       "      <td>101348.880000</td>\n",
       "      <td>0</td>\n",
       "      <td>0</td>\n",
       "      <td>0</td>\n",
       "      <td>1</td>\n",
       "      <td>1</td>\n",
       "      <td>1</td>\n",
       "      <td>2</td>\n",
       "    </tr>\n",
       "    <tr>\n",
       "      <th>1</th>\n",
       "      <td>41</td>\n",
       "      <td>83807.860000</td>\n",
       "      <td>608</td>\n",
       "      <td>112542.580000</td>\n",
       "      <td>0</td>\n",
       "      <td>0</td>\n",
       "      <td>1</td>\n",
       "      <td>0</td>\n",
       "      <td>1</td>\n",
       "      <td>1</td>\n",
       "      <td>1</td>\n",
       "    </tr>\n",
       "    <tr>\n",
       "      <th>2</th>\n",
       "      <td>42</td>\n",
       "      <td>159660.800000</td>\n",
       "      <td>502</td>\n",
       "      <td>113931.570000</td>\n",
       "      <td>0</td>\n",
       "      <td>0</td>\n",
       "      <td>0</td>\n",
       "      <td>1</td>\n",
       "      <td>0</td>\n",
       "      <td>3</td>\n",
       "      <td>8</td>\n",
       "    </tr>\n",
       "    <tr>\n",
       "      <th>3</th>\n",
       "      <td>39</td>\n",
       "      <td>0.000000</td>\n",
       "      <td>699</td>\n",
       "      <td>93826.630000</td>\n",
       "      <td>0</td>\n",
       "      <td>0</td>\n",
       "      <td>0</td>\n",
       "      <td>0</td>\n",
       "      <td>0</td>\n",
       "      <td>2</td>\n",
       "      <td>1</td>\n",
       "    </tr>\n",
       "    <tr>\n",
       "      <th>4</th>\n",
       "      <td>43</td>\n",
       "      <td>125510.820000</td>\n",
       "      <td>850</td>\n",
       "      <td>79084.100000</td>\n",
       "      <td>0</td>\n",
       "      <td>0</td>\n",
       "      <td>1</td>\n",
       "      <td>1</td>\n",
       "      <td>1</td>\n",
       "      <td>1</td>\n",
       "      <td>2</td>\n",
       "    </tr>\n",
       "    <tr>\n",
       "      <th>...</th>\n",
       "      <td>...</td>\n",
       "      <td>...</td>\n",
       "      <td>...</td>\n",
       "      <td>...</td>\n",
       "      <td>...</td>\n",
       "      <td>...</td>\n",
       "      <td>...</td>\n",
       "      <td>...</td>\n",
       "      <td>...</td>\n",
       "      <td>...</td>\n",
       "      <td>...</td>\n",
       "    </tr>\n",
       "    <tr>\n",
       "      <th>15921</th>\n",
       "      <td>55</td>\n",
       "      <td>110886.375264</td>\n",
       "      <td>666</td>\n",
       "      <td>134370.797321</td>\n",
       "      <td>1</td>\n",
       "      <td>0</td>\n",
       "      <td>0</td>\n",
       "      <td>1</td>\n",
       "      <td>0</td>\n",
       "      <td>1</td>\n",
       "      <td>9</td>\n",
       "    </tr>\n",
       "    <tr>\n",
       "      <th>15922</th>\n",
       "      <td>40</td>\n",
       "      <td>0.000000</td>\n",
       "      <td>762</td>\n",
       "      <td>28271.722057</td>\n",
       "      <td>0</td>\n",
       "      <td>0</td>\n",
       "      <td>0</td>\n",
       "      <td>1</td>\n",
       "      <td>0</td>\n",
       "      <td>1</td>\n",
       "      <td>5</td>\n",
       "    </tr>\n",
       "    <tr>\n",
       "      <th>15923</th>\n",
       "      <td>37</td>\n",
       "      <td>122763.977382</td>\n",
       "      <td>681</td>\n",
       "      <td>97776.417643</td>\n",
       "      <td>0</td>\n",
       "      <td>1</td>\n",
       "      <td>0</td>\n",
       "      <td>0</td>\n",
       "      <td>0</td>\n",
       "      <td>1</td>\n",
       "      <td>7</td>\n",
       "    </tr>\n",
       "    <tr>\n",
       "      <th>15924</th>\n",
       "      <td>40</td>\n",
       "      <td>130526.274930</td>\n",
       "      <td>704</td>\n",
       "      <td>58277.189991</td>\n",
       "      <td>0</td>\n",
       "      <td>0</td>\n",
       "      <td>0</td>\n",
       "      <td>0</td>\n",
       "      <td>0</td>\n",
       "      <td>1</td>\n",
       "      <td>7</td>\n",
       "    </tr>\n",
       "    <tr>\n",
       "      <th>15925</th>\n",
       "      <td>38</td>\n",
       "      <td>117032.610243</td>\n",
       "      <td>475</td>\n",
       "      <td>85936.129928</td>\n",
       "      <td>0</td>\n",
       "      <td>0</td>\n",
       "      <td>0</td>\n",
       "      <td>1</td>\n",
       "      <td>0</td>\n",
       "      <td>1</td>\n",
       "      <td>8</td>\n",
       "    </tr>\n",
       "  </tbody>\n",
       "</table>\n",
       "<p>15926 rows × 11 columns</p>\n",
       "</div>"
      ],
      "text/plain": [
       "       Age        Balance  CreditScore  EstimatedSalary  Gender_Male  \\\n",
       "0       42       0.000000          619    101348.880000            0   \n",
       "1       41   83807.860000          608    112542.580000            0   \n",
       "2       42  159660.800000          502    113931.570000            0   \n",
       "3       39       0.000000          699     93826.630000            0   \n",
       "4       43  125510.820000          850     79084.100000            0   \n",
       "...    ...            ...          ...              ...          ...   \n",
       "15921   55  110886.375264          666    134370.797321            1   \n",
       "15922   40       0.000000          762     28271.722057            0   \n",
       "15923   37  122763.977382          681     97776.417643            0   \n",
       "15924   40  130526.274930          704     58277.189991            0   \n",
       "15925   38  117032.610243          475     85936.129928            0   \n",
       "\n",
       "       Geography_Germany  Geography_Spain  HasCrCard  IsActiveMember  \\\n",
       "0                      0                0          1               1   \n",
       "1                      0                1          0               1   \n",
       "2                      0                0          1               0   \n",
       "3                      0                0          0               0   \n",
       "4                      0                1          1               1   \n",
       "...                  ...              ...        ...             ...   \n",
       "15921                  0                0          1               0   \n",
       "15922                  0                0          1               0   \n",
       "15923                  1                0          0               0   \n",
       "15924                  0                0          0               0   \n",
       "15925                  0                0          1               0   \n",
       "\n",
       "       NumOfProducts  Tenure  \n",
       "0                  1       2  \n",
       "1                  1       1  \n",
       "2                  3       8  \n",
       "3                  2       1  \n",
       "4                  1       2  \n",
       "...              ...     ...  \n",
       "15921              1       9  \n",
       "15922              1       5  \n",
       "15923              1       7  \n",
       "15924              1       7  \n",
       "15925              1       8  \n",
       "\n",
       "[15926 rows x 11 columns]"
      ]
     },
     "execution_count": 125,
     "metadata": {},
     "output_type": "execute_result"
    }
   ],
   "source": [
    "x_res"
   ]
  },
  {
   "cell_type": "code",
   "execution_count": 126,
   "id": "8f57dfba",
   "metadata": {},
   "outputs": [],
   "source": [
    "train_x,test_x,train_y,test_y = train_test_split(x_res,y_res,test_size=0.3,random_state=123)"
   ]
  },
  {
   "cell_type": "code",
   "execution_count": 127,
   "id": "47790e4a",
   "metadata": {},
   "outputs": [
    {
     "name": "stdout",
     "output_type": "stream",
     "text": [
      "shape of train_x: (11148, 11)\n",
      "shape of train_y: (11148,)\n"
     ]
    }
   ],
   "source": [
    "print('shape of train_x:',train_x.shape)\n",
    "print('shape of train_y:',train_y.shape)"
   ]
  },
  {
   "cell_type": "code",
   "execution_count": 128,
   "id": "4b4ce7f0",
   "metadata": {},
   "outputs": [
    {
     "data": {
      "text/html": [
       "<div>\n",
       "<style scoped>\n",
       "    .dataframe tbody tr th:only-of-type {\n",
       "        vertical-align: middle;\n",
       "    }\n",
       "\n",
       "    .dataframe tbody tr th {\n",
       "        vertical-align: top;\n",
       "    }\n",
       "\n",
       "    .dataframe thead th {\n",
       "        text-align: right;\n",
       "    }\n",
       "</style>\n",
       "<table border=\"1\" class=\"dataframe\">\n",
       "  <thead>\n",
       "    <tr style=\"text-align: right;\">\n",
       "      <th></th>\n",
       "      <th>Age</th>\n",
       "      <th>Balance</th>\n",
       "      <th>CreditScore</th>\n",
       "      <th>EstimatedSalary</th>\n",
       "      <th>Gender_Male</th>\n",
       "      <th>Geography_Germany</th>\n",
       "      <th>Geography_Spain</th>\n",
       "      <th>HasCrCard</th>\n",
       "      <th>IsActiveMember</th>\n",
       "      <th>NumOfProducts</th>\n",
       "      <th>Tenure</th>\n",
       "    </tr>\n",
       "  </thead>\n",
       "  <tbody>\n",
       "    <tr>\n",
       "      <th>8117</th>\n",
       "      <td>34</td>\n",
       "      <td>0.00</td>\n",
       "      <td>624</td>\n",
       "      <td>582.590000</td>\n",
       "      <td>0</td>\n",
       "      <td>0</td>\n",
       "      <td>1</td>\n",
       "      <td>1</td>\n",
       "      <td>0</td>\n",
       "      <td>1</td>\n",
       "      <td>6</td>\n",
       "    </tr>\n",
       "    <tr>\n",
       "      <th>8265</th>\n",
       "      <td>40</td>\n",
       "      <td>140306.38</td>\n",
       "      <td>618</td>\n",
       "      <td>160618.610000</td>\n",
       "      <td>0</td>\n",
       "      <td>1</td>\n",
       "      <td>0</td>\n",
       "      <td>1</td>\n",
       "      <td>0</td>\n",
       "      <td>1</td>\n",
       "      <td>0</td>\n",
       "    </tr>\n",
       "    <tr>\n",
       "      <th>5455</th>\n",
       "      <td>45</td>\n",
       "      <td>116585.97</td>\n",
       "      <td>805</td>\n",
       "      <td>189428.750000</td>\n",
       "      <td>0</td>\n",
       "      <td>1</td>\n",
       "      <td>0</td>\n",
       "      <td>1</td>\n",
       "      <td>0</td>\n",
       "      <td>1</td>\n",
       "      <td>9</td>\n",
       "    </tr>\n",
       "    <tr>\n",
       "      <th>10787</th>\n",
       "      <td>61</td>\n",
       "      <td>0.00</td>\n",
       "      <td>578</td>\n",
       "      <td>130875.116015</td>\n",
       "      <td>0</td>\n",
       "      <td>0</td>\n",
       "      <td>0</td>\n",
       "      <td>0</td>\n",
       "      <td>0</td>\n",
       "      <td>1</td>\n",
       "      <td>2</td>\n",
       "    </tr>\n",
       "    <tr>\n",
       "      <th>337</th>\n",
       "      <td>33</td>\n",
       "      <td>0.00</td>\n",
       "      <td>649</td>\n",
       "      <td>2010.980000</td>\n",
       "      <td>1</td>\n",
       "      <td>0</td>\n",
       "      <td>0</td>\n",
       "      <td>1</td>\n",
       "      <td>0</td>\n",
       "      <td>2</td>\n",
       "      <td>2</td>\n",
       "    </tr>\n",
       "    <tr>\n",
       "      <th>...</th>\n",
       "      <td>...</td>\n",
       "      <td>...</td>\n",
       "      <td>...</td>\n",
       "      <td>...</td>\n",
       "      <td>...</td>\n",
       "      <td>...</td>\n",
       "      <td>...</td>\n",
       "      <td>...</td>\n",
       "      <td>...</td>\n",
       "      <td>...</td>\n",
       "      <td>...</td>\n",
       "    </tr>\n",
       "    <tr>\n",
       "      <th>6625</th>\n",
       "      <td>41</td>\n",
       "      <td>112119.48</td>\n",
       "      <td>657</td>\n",
       "      <td>17536.820000</td>\n",
       "      <td>0</td>\n",
       "      <td>0</td>\n",
       "      <td>1</td>\n",
       "      <td>1</td>\n",
       "      <td>0</td>\n",
       "      <td>1</td>\n",
       "      <td>6</td>\n",
       "    </tr>\n",
       "    <tr>\n",
       "      <th>9921</th>\n",
       "      <td>36</td>\n",
       "      <td>65349.71</td>\n",
       "      <td>757</td>\n",
       "      <td>64539.640000</td>\n",
       "      <td>1</td>\n",
       "      <td>1</td>\n",
       "      <td>0</td>\n",
       "      <td>0</td>\n",
       "      <td>0</td>\n",
       "      <td>1</td>\n",
       "      <td>1</td>\n",
       "    </tr>\n",
       "    <tr>\n",
       "      <th>2141</th>\n",
       "      <td>18</td>\n",
       "      <td>0.00</td>\n",
       "      <td>674</td>\n",
       "      <td>55753.120000</td>\n",
       "      <td>1</td>\n",
       "      <td>0</td>\n",
       "      <td>0</td>\n",
       "      <td>1</td>\n",
       "      <td>1</td>\n",
       "      <td>2</td>\n",
       "      <td>7</td>\n",
       "    </tr>\n",
       "    <tr>\n",
       "      <th>3214</th>\n",
       "      <td>33</td>\n",
       "      <td>68193.72</td>\n",
       "      <td>572</td>\n",
       "      <td>19998.310000</td>\n",
       "      <td>1</td>\n",
       "      <td>0</td>\n",
       "      <td>0</td>\n",
       "      <td>1</td>\n",
       "      <td>0</td>\n",
       "      <td>1</td>\n",
       "      <td>9</td>\n",
       "    </tr>\n",
       "    <tr>\n",
       "      <th>1626</th>\n",
       "      <td>28</td>\n",
       "      <td>0.00</td>\n",
       "      <td>617</td>\n",
       "      <td>7597.830000</td>\n",
       "      <td>0</td>\n",
       "      <td>0</td>\n",
       "      <td>0</td>\n",
       "      <td>1</td>\n",
       "      <td>1</td>\n",
       "      <td>2</td>\n",
       "      <td>0</td>\n",
       "    </tr>\n",
       "  </tbody>\n",
       "</table>\n",
       "<p>4778 rows × 11 columns</p>\n",
       "</div>"
      ],
      "text/plain": [
       "       Age    Balance  CreditScore  EstimatedSalary  Gender_Male  \\\n",
       "8117    34       0.00          624       582.590000            0   \n",
       "8265    40  140306.38          618    160618.610000            0   \n",
       "5455    45  116585.97          805    189428.750000            0   \n",
       "10787   61       0.00          578    130875.116015            0   \n",
       "337     33       0.00          649      2010.980000            1   \n",
       "...    ...        ...          ...              ...          ...   \n",
       "6625    41  112119.48          657     17536.820000            0   \n",
       "9921    36   65349.71          757     64539.640000            1   \n",
       "2141    18       0.00          674     55753.120000            1   \n",
       "3214    33   68193.72          572     19998.310000            1   \n",
       "1626    28       0.00          617      7597.830000            0   \n",
       "\n",
       "       Geography_Germany  Geography_Spain  HasCrCard  IsActiveMember  \\\n",
       "8117                   0                1          1               0   \n",
       "8265                   1                0          1               0   \n",
       "5455                   1                0          1               0   \n",
       "10787                  0                0          0               0   \n",
       "337                    0                0          1               0   \n",
       "...                  ...              ...        ...             ...   \n",
       "6625                   0                1          1               0   \n",
       "9921                   1                0          0               0   \n",
       "2141                   0                0          1               1   \n",
       "3214                   0                0          1               0   \n",
       "1626                   0                0          1               1   \n",
       "\n",
       "       NumOfProducts  Tenure  \n",
       "8117               1       6  \n",
       "8265               1       0  \n",
       "5455               1       9  \n",
       "10787              1       2  \n",
       "337                2       2  \n",
       "...              ...     ...  \n",
       "6625               1       6  \n",
       "9921               1       1  \n",
       "2141               2       7  \n",
       "3214               1       9  \n",
       "1626               2       0  \n",
       "\n",
       "[4778 rows x 11 columns]"
      ]
     },
     "execution_count": 128,
     "metadata": {},
     "output_type": "execute_result"
    }
   ],
   "source": [
    "test_x"
   ]
  },
  {
   "cell_type": "markdown",
   "id": "0544071f",
   "metadata": {},
   "source": [
    "### Feature scaling"
   ]
  },
  {
   "cell_type": "code",
   "execution_count": 129,
   "id": "64f4b884",
   "metadata": {},
   "outputs": [],
   "source": [
    "sc=StandardScaler()\n",
    "st= sc.fit(train_x)"
   ]
  },
  {
   "cell_type": "code",
   "execution_count": 130,
   "id": "7550950c",
   "metadata": {},
   "outputs": [
    {
     "data": {
      "text/html": [
       "<div>\n",
       "<style scoped>\n",
       "    .dataframe tbody tr th:only-of-type {\n",
       "        vertical-align: middle;\n",
       "    }\n",
       "\n",
       "    .dataframe tbody tr th {\n",
       "        vertical-align: top;\n",
       "    }\n",
       "\n",
       "    .dataframe thead th {\n",
       "        text-align: right;\n",
       "    }\n",
       "</style>\n",
       "<table border=\"1\" class=\"dataframe\">\n",
       "  <thead>\n",
       "    <tr style=\"text-align: right;\">\n",
       "      <th></th>\n",
       "      <th>Age</th>\n",
       "      <th>Balance</th>\n",
       "      <th>CreditScore</th>\n",
       "      <th>EstimatedSalary</th>\n",
       "      <th>Gender_Male</th>\n",
       "      <th>Geography_Germany</th>\n",
       "      <th>Geography_Spain</th>\n",
       "      <th>HasCrCard</th>\n",
       "      <th>IsActiveMember</th>\n",
       "      <th>NumOfProducts</th>\n",
       "      <th>Tenure</th>\n",
       "    </tr>\n",
       "  </thead>\n",
       "  <tbody>\n",
       "    <tr>\n",
       "      <th>0</th>\n",
       "      <td>-0.692771</td>\n",
       "      <td>-1.336477</td>\n",
       "      <td>-0.262200</td>\n",
       "      <td>-1.733331</td>\n",
       "      <td>-0.840640</td>\n",
       "      <td>-0.575693</td>\n",
       "      <td>2.172523</td>\n",
       "      <td>0.773337</td>\n",
       "      <td>-0.760063</td>\n",
       "      <td>-0.728874</td>\n",
       "      <td>0.430544</td>\n",
       "    </tr>\n",
       "    <tr>\n",
       "      <th>1</th>\n",
       "      <td>-0.092591</td>\n",
       "      <td>0.950341</td>\n",
       "      <td>-0.327735</td>\n",
       "      <td>1.035195</td>\n",
       "      <td>-0.840640</td>\n",
       "      <td>1.737037</td>\n",
       "      <td>-0.460294</td>\n",
       "      <td>0.773337</td>\n",
       "      <td>-0.760063</td>\n",
       "      <td>-0.728874</td>\n",
       "      <td>-1.774865</td>\n",
       "    </tr>\n",
       "    <tr>\n",
       "      <th>2</th>\n",
       "      <td>0.407559</td>\n",
       "      <td>0.563728</td>\n",
       "      <td>1.714755</td>\n",
       "      <td>1.533593</td>\n",
       "      <td>-0.840640</td>\n",
       "      <td>1.737037</td>\n",
       "      <td>-0.460294</td>\n",
       "      <td>0.773337</td>\n",
       "      <td>-0.760063</td>\n",
       "      <td>-0.728874</td>\n",
       "      <td>1.533249</td>\n",
       "    </tr>\n",
       "    <tr>\n",
       "      <th>3</th>\n",
       "      <td>2.008039</td>\n",
       "      <td>-1.336477</td>\n",
       "      <td>-0.764631</td>\n",
       "      <td>0.520651</td>\n",
       "      <td>-0.840640</td>\n",
       "      <td>-0.575693</td>\n",
       "      <td>-0.460294</td>\n",
       "      <td>-1.293097</td>\n",
       "      <td>-0.760063</td>\n",
       "      <td>-0.728874</td>\n",
       "      <td>-1.039729</td>\n",
       "    </tr>\n",
       "    <tr>\n",
       "      <th>4</th>\n",
       "      <td>-0.792801</td>\n",
       "      <td>-1.336477</td>\n",
       "      <td>0.010860</td>\n",
       "      <td>-1.708621</td>\n",
       "      <td>1.189571</td>\n",
       "      <td>-0.575693</td>\n",
       "      <td>-0.460294</td>\n",
       "      <td>0.773337</td>\n",
       "      <td>-0.760063</td>\n",
       "      <td>1.014419</td>\n",
       "      <td>-1.039729</td>\n",
       "    </tr>\n",
       "    <tr>\n",
       "      <th>...</th>\n",
       "      <td>...</td>\n",
       "      <td>...</td>\n",
       "      <td>...</td>\n",
       "      <td>...</td>\n",
       "      <td>...</td>\n",
       "      <td>...</td>\n",
       "      <td>...</td>\n",
       "      <td>...</td>\n",
       "      <td>...</td>\n",
       "      <td>...</td>\n",
       "      <td>...</td>\n",
       "    </tr>\n",
       "    <tr>\n",
       "      <th>4773</th>\n",
       "      <td>0.007439</td>\n",
       "      <td>0.490930</td>\n",
       "      <td>0.098239</td>\n",
       "      <td>-1.440033</td>\n",
       "      <td>-0.840640</td>\n",
       "      <td>-0.575693</td>\n",
       "      <td>2.172523</td>\n",
       "      <td>0.773337</td>\n",
       "      <td>-0.760063</td>\n",
       "      <td>-0.728874</td>\n",
       "      <td>0.430544</td>\n",
       "    </tr>\n",
       "    <tr>\n",
       "      <th>4774</th>\n",
       "      <td>-0.492711</td>\n",
       "      <td>-0.271358</td>\n",
       "      <td>1.190479</td>\n",
       "      <td>-0.626913</td>\n",
       "      <td>1.189571</td>\n",
       "      <td>1.737037</td>\n",
       "      <td>-0.460294</td>\n",
       "      <td>-1.293097</td>\n",
       "      <td>-0.760063</td>\n",
       "      <td>-0.728874</td>\n",
       "      <td>-1.407297</td>\n",
       "    </tr>\n",
       "    <tr>\n",
       "      <th>4775</th>\n",
       "      <td>-2.293252</td>\n",
       "      <td>-1.336477</td>\n",
       "      <td>0.283920</td>\n",
       "      <td>-0.778914</td>\n",
       "      <td>1.189571</td>\n",
       "      <td>-0.575693</td>\n",
       "      <td>-0.460294</td>\n",
       "      <td>0.773337</td>\n",
       "      <td>1.315680</td>\n",
       "      <td>1.014419</td>\n",
       "      <td>0.798112</td>\n",
       "    </tr>\n",
       "    <tr>\n",
       "      <th>4776</th>\n",
       "      <td>-0.792801</td>\n",
       "      <td>-0.225004</td>\n",
       "      <td>-0.830165</td>\n",
       "      <td>-1.397451</td>\n",
       "      <td>1.189571</td>\n",
       "      <td>-0.575693</td>\n",
       "      <td>-0.460294</td>\n",
       "      <td>0.773337</td>\n",
       "      <td>-0.760063</td>\n",
       "      <td>-0.728874</td>\n",
       "      <td>1.533249</td>\n",
       "    </tr>\n",
       "    <tr>\n",
       "      <th>4777</th>\n",
       "      <td>-1.292951</td>\n",
       "      <td>-1.336477</td>\n",
       "      <td>-0.338657</td>\n",
       "      <td>-1.611972</td>\n",
       "      <td>-0.840640</td>\n",
       "      <td>-0.575693</td>\n",
       "      <td>-0.460294</td>\n",
       "      <td>0.773337</td>\n",
       "      <td>1.315680</td>\n",
       "      <td>1.014419</td>\n",
       "      <td>-1.774865</td>\n",
       "    </tr>\n",
       "  </tbody>\n",
       "</table>\n",
       "<p>4778 rows × 11 columns</p>\n",
       "</div>"
      ],
      "text/plain": [
       "           Age   Balance  CreditScore  EstimatedSalary  Gender_Male  \\\n",
       "0    -0.692771 -1.336477    -0.262200        -1.733331    -0.840640   \n",
       "1    -0.092591  0.950341    -0.327735         1.035195    -0.840640   \n",
       "2     0.407559  0.563728     1.714755         1.533593    -0.840640   \n",
       "3     2.008039 -1.336477    -0.764631         0.520651    -0.840640   \n",
       "4    -0.792801 -1.336477     0.010860        -1.708621     1.189571   \n",
       "...        ...       ...          ...              ...          ...   \n",
       "4773  0.007439  0.490930     0.098239        -1.440033    -0.840640   \n",
       "4774 -0.492711 -0.271358     1.190479        -0.626913     1.189571   \n",
       "4775 -2.293252 -1.336477     0.283920        -0.778914     1.189571   \n",
       "4776 -0.792801 -0.225004    -0.830165        -1.397451     1.189571   \n",
       "4777 -1.292951 -1.336477    -0.338657        -1.611972    -0.840640   \n",
       "\n",
       "      Geography_Germany  Geography_Spain  HasCrCard  IsActiveMember  \\\n",
       "0             -0.575693         2.172523   0.773337       -0.760063   \n",
       "1              1.737037        -0.460294   0.773337       -0.760063   \n",
       "2              1.737037        -0.460294   0.773337       -0.760063   \n",
       "3             -0.575693        -0.460294  -1.293097       -0.760063   \n",
       "4             -0.575693        -0.460294   0.773337       -0.760063   \n",
       "...                 ...              ...        ...             ...   \n",
       "4773          -0.575693         2.172523   0.773337       -0.760063   \n",
       "4774           1.737037        -0.460294  -1.293097       -0.760063   \n",
       "4775          -0.575693        -0.460294   0.773337        1.315680   \n",
       "4776          -0.575693        -0.460294   0.773337       -0.760063   \n",
       "4777          -0.575693        -0.460294   0.773337        1.315680   \n",
       "\n",
       "      NumOfProducts    Tenure  \n",
       "0         -0.728874  0.430544  \n",
       "1         -0.728874 -1.774865  \n",
       "2         -0.728874  1.533249  \n",
       "3         -0.728874 -1.039729  \n",
       "4          1.014419 -1.039729  \n",
       "...             ...       ...  \n",
       "4773      -0.728874  0.430544  \n",
       "4774      -0.728874 -1.407297  \n",
       "4775       1.014419  0.798112  \n",
       "4776      -0.728874  1.533249  \n",
       "4777       1.014419 -1.774865  \n",
       "\n",
       "[4778 rows x 11 columns]"
      ]
     },
     "execution_count": 130,
     "metadata": {},
     "output_type": "execute_result"
    }
   ],
   "source": [
    "train_x_std = pd.DataFrame(st.transform(train_x),columns=train_x.columns)\n",
    "test_x_std = pd.DataFrame(st.transform(test_x),columns=test_x.columns)\n",
    "test_x_std"
   ]
  },
  {
   "cell_type": "markdown",
   "id": "f9366283",
   "metadata": {},
   "source": [
    "### Model Building"
   ]
  },
  {
   "cell_type": "code",
   "execution_count": 131,
   "id": "02ad7971",
   "metadata": {},
   "outputs": [],
   "source": [
    "def metric_table(y_true,y_pred,y_proba,model_name):\n",
    "    prec = precision_score(y_true,y_pred)\n",
    "    acc = accuracy_score(y_true,y_pred)\n",
    "    recall = recall_score(y_true,y_pred)\n",
    "    f1 = f1_score(y_true,y_pred)\n",
    "    roc = roc_auc_score(y_true,y_proba[:, 1])\n",
    "    metric = pd.DataFrame(data={\n",
    "        \"model\" : model_name,\n",
    "        \"Precision\" : prec,\n",
    "        \"Accuracy\" : acc,\n",
    "        \"Recall\" : recall,\n",
    "        \"F1-score\" : f1,\n",
    "        \"ROC_AUC\" : roc\n",
    "    },index=[0])\n",
    "    return metric"
   ]
  },
  {
   "cell_type": "markdown",
   "id": "1e7695a1",
   "metadata": {},
   "source": [
    "### This function calculates and returns a DataFrame containing various performance metrics for a classification model. These metrics include precision, accuracy, recall, F1-score, and ROC AUC score.\n",
    "\n",
    "Parameters:\n",
    "- y_true: The true labels for the test data.\n",
    "- y_pred: The predicted labels from the model.\n",
    "- y_proba: The predicted probabilities from the model, typically for the positive class.\n",
    "- model_name: A string representing the name of the model being evaluated.\n",
    "    \n",
    "Metrics:\n",
    "- precision score, which is the ratio of true positive predictions to the total number of positive predictions (true positives + false positives).\n",
    "- accuracy score, which is the ratio of correctly predicted instances (true positives + true negatives) to the total number of instances.\n",
    "-  recall score, which is the ratio of true positive predictions to the total number of actual positives (true positives + false negatives).\n",
    "- F1-score, which is the harmonic mean of precision and recall, providing a balance between the two.\n",
    "- the ROC AUC score, which is the area under the Receiver Operating Characteristic curve. It measures the ability of the model to distinguish between classes. The y_proba[:, 1] selects the probabilities for the positive class."
   ]
  },
  {
   "cell_type": "code",
   "execution_count": 132,
   "id": "a1df2e83",
   "metadata": {},
   "outputs": [],
   "source": [
    "def roc_curve_plot(Y_pred, Y_true, Y_pred_pobablities, model_name):\n",
    "    Y_pp = Y_pred_pobablities[:, 1]\n",
    "    fpr, tpr, threshold1 = roc_curve(Y_true, Y_pp )\n",
    "    \n",
    "    fig, ax = plt.subplots(nrows=1, ncols= 1, figsize = (7,5), constrained_layout = True)\n",
    "    ax.plot(fpr, tpr, label='ROC Score: {:.5f}'.format(roc_auc_score(Y_true, Y_pp)),color='Red')\n",
    "    ax.set_title(f\"{model_name} ROC Curve \", fontdict = {\"fontsize\": 18})\n",
    "    ax.set_xlabel(\"False Positive Rate\", fontdict = {\"fontsize\": 15} )\n",
    "    ax.set_ylabel(\"True Positive Rate\", fontdict = {\"fontsize\": 15})\n",
    "    ax.legend(loc = 4, fontsize = 14 )\n",
    "\n",
    "    plt.show()"
   ]
  },
  {
   "cell_type": "markdown",
   "id": "8268e33d",
   "metadata": {},
   "source": [
    "### Logistic Regression"
   ]
  },
  {
   "cell_type": "code",
   "execution_count": 133,
   "id": "21e6a308",
   "metadata": {},
   "outputs": [],
   "source": [
    "import copy\n",
    "train_x_lr = copy.deepcopy(train_x_std)\n",
    "test_x_lr = copy.deepcopy(test_x_std)"
   ]
  },
  {
   "cell_type": "markdown",
   "id": "36a5002a",
   "metadata": {},
   "source": [
    "###### This code is used to create deep copies of the train_x_std and test_x_std DataFrames. The purpose of deep copying is to create completely independent copies of these DataFrames, so that changes made to the copied DataFrames (train_x_lr and test_x_lr) do not affect the original DataFrames (train_x_std and test_x_std)."
   ]
  },
  {
   "cell_type": "code",
   "execution_count": 134,
   "id": "c3ad9543",
   "metadata": {},
   "outputs": [],
   "source": [
    "lr=LogisticRegression()\n",
    "\n",
    "lr_model = lr.fit(train_x_lr,train_y)"
   ]
  },
  {
   "cell_type": "code",
   "execution_count": 135,
   "id": "fc7f7e4e",
   "metadata": {},
   "outputs": [],
   "source": [
    "lr_pred = lr_model.predict(test_x_lr)\n",
    "lr_prob = lr_model.predict_proba(test_x_lr)"
   ]
  },
  {
   "cell_type": "code",
   "execution_count": 136,
   "id": "ce83b6d0",
   "metadata": {},
   "outputs": [
    {
     "data": {
      "text/html": [
       "<div>\n",
       "<style scoped>\n",
       "    .dataframe tbody tr th:only-of-type {\n",
       "        vertical-align: middle;\n",
       "    }\n",
       "\n",
       "    .dataframe tbody tr th {\n",
       "        vertical-align: top;\n",
       "    }\n",
       "\n",
       "    .dataframe thead th {\n",
       "        text-align: right;\n",
       "    }\n",
       "</style>\n",
       "<table border=\"1\" class=\"dataframe\">\n",
       "  <thead>\n",
       "    <tr style=\"text-align: right;\">\n",
       "      <th></th>\n",
       "      <th>model</th>\n",
       "      <th>Precision</th>\n",
       "      <th>Accuracy</th>\n",
       "      <th>Recall</th>\n",
       "      <th>F1-score</th>\n",
       "      <th>ROC_AUC</th>\n",
       "    </tr>\n",
       "  </thead>\n",
       "  <tbody>\n",
       "    <tr>\n",
       "      <th>0</th>\n",
       "      <td>LogisticRegression</td>\n",
       "      <td>0.76939</td>\n",
       "      <td>0.775638</td>\n",
       "      <td>0.78237</td>\n",
       "      <td>0.775826</td>\n",
       "      <td>0.85619</td>\n",
       "    </tr>\n",
       "  </tbody>\n",
       "</table>\n",
       "</div>"
      ],
      "text/plain": [
       "                model  Precision  Accuracy   Recall  F1-score  ROC_AUC\n",
       "0  LogisticRegression    0.76939  0.775638  0.78237  0.775826  0.85619"
      ]
     },
     "execution_count": 136,
     "metadata": {},
     "output_type": "execute_result"
    }
   ],
   "source": [
    "metric_table(test_y,lr_pred,lr_prob,'LogisticRegression')"
   ]
  },
  {
   "cell_type": "code",
   "execution_count": 137,
   "id": "a7b29946",
   "metadata": {},
   "outputs": [
    {
     "data": {
      "image/png": "[encoded data removed]",
      "text/plain": [
       "<Figure size 504x360 with 1 Axes>"
      ]
     },
     "metadata": {
      "needs_background": "light"
     },
     "output_type": "display_data"
    }
   ],
   "source": [
    "roc_curve_plot(lr_pred,test_y,lr_prob,\"Logistic Regression\")"
   ]
  },
  {
   "cell_type": "markdown",
   "id": "5c16552d",
   "metadata": {},
   "source": [
    "### K-Nearest Neighbour"
   ]
  },
  {
   "cell_type": "code",
   "execution_count": 138,
   "id": "48d42578",
   "metadata": {},
   "outputs": [],
   "source": [
    "train_x_knn = copy.deepcopy(train_x_std)\n",
    "test_x_knn = copy.deepcopy(test_x_std)"
   ]
  },
  {
   "cell_type": "code",
   "execution_count": 139,
   "id": "12f914fe",
   "metadata": {},
   "outputs": [],
   "source": [
    "knn= KNeighborsClassifier()\n",
    "knn_model = knn.fit(train_x_knn,train_y)\n",
    "\n",
    "knn_pred = knn_model.predict(test_x_knn)\n",
    "knn_prob = knn_model.predict_proba(test_x_knn)"
   ]
  },
  {
   "cell_type": "code",
   "execution_count": 140,
   "id": "6db46c5d",
   "metadata": {},
   "outputs": [
    {
     "data": {
      "text/html": [
       "<div>\n",
       "<style scoped>\n",
       "    .dataframe tbody tr th:only-of-type {\n",
       "        vertical-align: middle;\n",
       "    }\n",
       "\n",
       "    .dataframe tbody tr th {\n",
       "        vertical-align: top;\n",
       "    }\n",
       "\n",
       "    .dataframe thead th {\n",
       "        text-align: right;\n",
       "    }\n",
       "</style>\n",
       "<table border=\"1\" class=\"dataframe\">\n",
       "  <thead>\n",
       "    <tr style=\"text-align: right;\">\n",
       "      <th></th>\n",
       "      <th>model</th>\n",
       "      <th>Precision</th>\n",
       "      <th>Accuracy</th>\n",
       "      <th>Recall</th>\n",
       "      <th>F1-score</th>\n",
       "      <th>ROC_AUC</th>\n",
       "    </tr>\n",
       "  </thead>\n",
       "  <tbody>\n",
       "    <tr>\n",
       "      <th>0</th>\n",
       "      <td>KNN</td>\n",
       "      <td>0.805945</td>\n",
       "      <td>0.813939</td>\n",
       "      <td>0.823281</td>\n",
       "      <td>0.814521</td>\n",
       "      <td>0.882064</td>\n",
       "    </tr>\n",
       "  </tbody>\n",
       "</table>\n",
       "</div>"
      ],
      "text/plain": [
       "  model  Precision  Accuracy    Recall  F1-score   ROC_AUC\n",
       "0   KNN   0.805945  0.813939  0.823281  0.814521  0.882064"
      ]
     },
     "execution_count": 140,
     "metadata": {},
     "output_type": "execute_result"
    }
   ],
   "source": [
    "metric_table(test_y,knn_pred,knn_prob,\"KNN\")"
   ]
  },
  {
   "cell_type": "code",
   "execution_count": 141,
   "id": "0a76ba3f",
   "metadata": {},
   "outputs": [
    {
     "data": {
      "image/png": "[encoded data removed]",
      "text/plain": [
       "<Figure size 504x360 with 1 Axes>"
      ]
     },
     "metadata": {
      "needs_background": "light"
     },
     "output_type": "display_data"
    }
   ],
   "source": [
    "roc_curve_plot(knn_pred,test_y,knn_prob,\"K-Nearest Neighbour\")"
   ]
  },
  {
   "cell_type": "markdown",
   "id": "76fea1a9",
   "metadata": {},
   "source": [
    "### Decision Tree Classifier"
   ]
  },
  {
   "cell_type": "code",
   "execution_count": 142,
   "id": "ed4322ee",
   "metadata": {},
   "outputs": [],
   "source": [
    "dt = DecisionTreeClassifier()\n",
    "dt_model = dt.fit(train_x_std,train_y)"
   ]
  },
  {
   "cell_type": "code",
   "execution_count": 143,
   "id": "af53cbcc",
   "metadata": {},
   "outputs": [],
   "source": [
    "dt_pred = dt_model.predict(test_x_std)\n",
    "dt_prob = dt_model.predict_proba(test_x_std)"
   ]
  },
  {
   "cell_type": "code",
   "execution_count": 144,
   "id": "1b314108",
   "metadata": {},
   "outputs": [
    {
     "data": {
      "text/html": [
       "<div>\n",
       "<style scoped>\n",
       "    .dataframe tbody tr th:only-of-type {\n",
       "        vertical-align: middle;\n",
       "    }\n",
       "\n",
       "    .dataframe tbody tr th {\n",
       "        vertical-align: top;\n",
       "    }\n",
       "\n",
       "    .dataframe thead th {\n",
       "        text-align: right;\n",
       "    }\n",
       "</style>\n",
       "<table border=\"1\" class=\"dataframe\">\n",
       "  <thead>\n",
       "    <tr style=\"text-align: right;\">\n",
       "      <th></th>\n",
       "      <th>model</th>\n",
       "      <th>Precision</th>\n",
       "      <th>Accuracy</th>\n",
       "      <th>Recall</th>\n",
       "      <th>F1-score</th>\n",
       "      <th>ROC_AUC</th>\n",
       "    </tr>\n",
       "  </thead>\n",
       "  <tbody>\n",
       "    <tr>\n",
       "      <th>0</th>\n",
       "      <td>Decision Tree Classifier</td>\n",
       "      <td>0.776961</td>\n",
       "      <td>0.787568</td>\n",
       "      <td>0.802193</td>\n",
       "      <td>0.789375</td>\n",
       "      <td>0.787677</td>\n",
       "    </tr>\n",
       "  </tbody>\n",
       "</table>\n",
       "</div>"
      ],
      "text/plain": [
       "                      model  Precision  Accuracy    Recall  F1-score   ROC_AUC\n",
       "0  Decision Tree Classifier   0.776961  0.787568  0.802193  0.789375  0.787677"
      ]
     },
     "execution_count": 144,
     "metadata": {},
     "output_type": "execute_result"
    }
   ],
   "source": [
    "metric_table(test_y,dt_pred,dt_prob,\"Decision Tree Classifier\")"
   ]
  },
  {
   "cell_type": "code",
   "execution_count": 145,
   "id": "73da777f",
   "metadata": {},
   "outputs": [
    {
     "data": {
      "image/png": "[encoded data removed]",
      "text/plain": [
       "<Figure size 504x360 with 1 Axes>"
      ]
     },
     "metadata": {
      "needs_background": "light"
     },
     "output_type": "display_data"
    }
   ],
   "source": [
    "roc_curve_plot(dt_pred,test_y,dt_prob,\"Decision Tree\")"
   ]
  },
  {
   "cell_type": "markdown",
   "id": "5c6f35ff",
   "metadata": {},
   "source": [
    "### Random Forest"
   ]
  },
  {
   "cell_type": "code",
   "execution_count": 146,
   "id": "97336fb6",
   "metadata": {},
   "outputs": [],
   "source": [
    "rf = RandomForestClassifier()\n",
    "rf_model = rf.fit(train_x_std,train_y)"
   ]
  },
  {
   "cell_type": "code",
   "execution_count": 147,
   "id": "3e38a061",
   "metadata": {},
   "outputs": [],
   "source": [
    "rf_pred= rf_model.predict(test_x_std)\n",
    "rf_prob = rf_model.predict_proba(test_x_std)"
   ]
  },
  {
   "cell_type": "code",
   "execution_count": 148,
   "id": "4724c843",
   "metadata": {},
   "outputs": [
    {
     "data": {
      "text/html": [
       "<div>\n",
       "<style scoped>\n",
       "    .dataframe tbody tr th:only-of-type {\n",
       "        vertical-align: middle;\n",
       "    }\n",
       "\n",
       "    .dataframe tbody tr th {\n",
       "        vertical-align: top;\n",
       "    }\n",
       "\n",
       "    .dataframe thead th {\n",
       "        text-align: right;\n",
       "    }\n",
       "</style>\n",
       "<table border=\"1\" class=\"dataframe\">\n",
       "  <thead>\n",
       "    <tr style=\"text-align: right;\">\n",
       "      <th></th>\n",
       "      <th>model</th>\n",
       "      <th>Precision</th>\n",
       "      <th>Accuracy</th>\n",
       "      <th>Recall</th>\n",
       "      <th>F1-score</th>\n",
       "      <th>ROC_AUC</th>\n",
       "    </tr>\n",
       "  </thead>\n",
       "  <tbody>\n",
       "    <tr>\n",
       "      <th>0</th>\n",
       "      <td>Random Forest</td>\n",
       "      <td>0.845213</td>\n",
       "      <td>0.851612</td>\n",
       "      <td>0.85422</td>\n",
       "      <td>0.849693</td>\n",
       "      <td>1.0</td>\n",
       "    </tr>\n",
       "  </tbody>\n",
       "</table>\n",
       "</div>"
      ],
      "text/plain": [
       "           model  Precision  Accuracy   Recall  F1-score  ROC_AUC\n",
       "0  Random Forest   0.845213  0.851612  0.85422  0.849693      1.0"
      ]
     },
     "execution_count": 148,
     "metadata": {},
     "output_type": "execute_result"
    }
   ],
   "source": [
    "metric_table(rf_pred,test_y,rf_prob,\"Random Forest\")"
   ]
  },
  {
   "cell_type": "code",
   "execution_count": 149,
   "id": "fed99164",
   "metadata": {},
   "outputs": [
    {
     "data": {
      "image/png": "[encoded data removed]",
      "text/plain": [
       "<Figure size 504x360 with 1 Axes>"
      ]
     },
     "metadata": {
      "needs_background": "light"
     },
     "output_type": "display_data"
    }
   ],
   "source": [
    "roc_curve_plot(test_y,rf_pred,rf_prob,\"Random Forest\")"
   ]
  },
  {
   "cell_type": "markdown",
   "id": "4baa8835",
   "metadata": {},
   "source": [
    "### Gradient Boosting"
   ]
  },
  {
   "cell_type": "code",
   "execution_count": 150,
   "id": "861a45bd",
   "metadata": {},
   "outputs": [],
   "source": [
    "gb = GradientBoostingClassifier()\n",
    "gb_model = gb.fit(train_x_std,train_y)"
   ]
  },
  {
   "cell_type": "code",
   "execution_count": 151,
   "id": "ef538b88",
   "metadata": {},
   "outputs": [],
   "source": [
    "gb_pred = gb_model.predict(test_x_std)\n",
    "gb_prob = gb_model.predict_proba(test_x_std)"
   ]
  },
  {
   "cell_type": "code",
   "execution_count": 152,
   "id": "7e6420c4",
   "metadata": {},
   "outputs": [
    {
     "data": {
      "text/html": [
       "<div>\n",
       "<style scoped>\n",
       "    .dataframe tbody tr th:only-of-type {\n",
       "        vertical-align: middle;\n",
       "    }\n",
       "\n",
       "    .dataframe tbody tr th {\n",
       "        vertical-align: top;\n",
       "    }\n",
       "\n",
       "    .dataframe thead th {\n",
       "        text-align: right;\n",
       "    }\n",
       "</style>\n",
       "<table border=\"1\" class=\"dataframe\">\n",
       "  <thead>\n",
       "    <tr style=\"text-align: right;\">\n",
       "      <th></th>\n",
       "      <th>model</th>\n",
       "      <th>Precision</th>\n",
       "      <th>Accuracy</th>\n",
       "      <th>Recall</th>\n",
       "      <th>F1-score</th>\n",
       "      <th>ROC_AUC</th>\n",
       "    </tr>\n",
       "  </thead>\n",
       "  <tbody>\n",
       "    <tr>\n",
       "      <th>0</th>\n",
       "      <td>Gradient Boosting</td>\n",
       "      <td>0.840329</td>\n",
       "      <td>0.832985</td>\n",
       "      <td>0.819064</td>\n",
       "      <td>0.82956</td>\n",
       "      <td>0.913719</td>\n",
       "    </tr>\n",
       "  </tbody>\n",
       "</table>\n",
       "</div>"
      ],
      "text/plain": [
       "               model  Precision  Accuracy    Recall  F1-score   ROC_AUC\n",
       "0  Gradient Boosting   0.840329  0.832985  0.819064   0.82956  0.913719"
      ]
     },
     "execution_count": 152,
     "metadata": {},
     "output_type": "execute_result"
    }
   ],
   "source": [
    "metric_table(test_y,gb_pred,gb_prob,\"Gradient Boosting\")"
   ]
  },
  {
   "cell_type": "code",
   "execution_count": 153,
   "id": "3fc9359b",
   "metadata": {},
   "outputs": [
    {
     "data": {
      "image/png": "[encoded data removed]",
      "text/plain": [
       "<Figure size 504x360 with 1 Axes>"
      ]
     },
     "metadata": {
      "needs_background": "light"
     },
     "output_type": "display_data"
    }
   ],
   "source": [
    "roc_curve_plot(gb_pred,test_y,gb_prob,\"Gradient Boosting\")"
   ]
  },
  {
   "cell_type": "markdown",
   "id": "3e30bcab",
   "metadata": {},
   "source": [
    "### XGBoost"
   ]
  },
  {
   "cell_type": "code",
   "execution_count": 154,
   "id": "344a0542",
   "metadata": {},
   "outputs": [],
   "source": [
    "xg = XGBClassifier()\n",
    "xgb_model = xg.fit(train_x_std,train_y)"
   ]
  },
  {
   "cell_type": "code",
   "execution_count": 155,
   "id": "f71eeae7",
   "metadata": {},
   "outputs": [],
   "source": [
    "xgb_pred = xgb_model.predict(test_x_std)\n",
    "xgb_prob = xgb_model.predict_proba(test_x_std)"
   ]
  },
  {
   "cell_type": "code",
   "execution_count": 156,
   "id": "aa049a0c",
   "metadata": {},
   "outputs": [
    {
     "data": {
      "text/html": [
       "<div>\n",
       "<style scoped>\n",
       "    .dataframe tbody tr th:only-of-type {\n",
       "        vertical-align: middle;\n",
       "    }\n",
       "\n",
       "    .dataframe tbody tr th {\n",
       "        vertical-align: top;\n",
       "    }\n",
       "\n",
       "    .dataframe thead th {\n",
       "        text-align: right;\n",
       "    }\n",
       "</style>\n",
       "<table border=\"1\" class=\"dataframe\">\n",
       "  <thead>\n",
       "    <tr style=\"text-align: right;\">\n",
       "      <th></th>\n",
       "      <th>model</th>\n",
       "      <th>Precision</th>\n",
       "      <th>Accuracy</th>\n",
       "      <th>Recall</th>\n",
       "      <th>F1-score</th>\n",
       "      <th>ROC_AUC</th>\n",
       "    </tr>\n",
       "  </thead>\n",
       "  <tbody>\n",
       "    <tr>\n",
       "      <th>0</th>\n",
       "      <td>XGBoost</td>\n",
       "      <td>0.855753</td>\n",
       "      <td>0.855797</td>\n",
       "      <td>0.853226</td>\n",
       "      <td>0.854488</td>\n",
       "      <td>0.934868</td>\n",
       "    </tr>\n",
       "  </tbody>\n",
       "</table>\n",
       "</div>"
      ],
      "text/plain": [
       "     model  Precision  Accuracy    Recall  F1-score   ROC_AUC\n",
       "0  XGBoost   0.855753  0.855797  0.853226  0.854488  0.934868"
      ]
     },
     "execution_count": 156,
     "metadata": {},
     "output_type": "execute_result"
    }
   ],
   "source": [
    "metric_table(test_y,xgb_pred,xgb_prob,\"XGBoost\")"
   ]
  },
  {
   "cell_type": "code",
   "execution_count": 157,
   "id": "dc622676",
   "metadata": {},
   "outputs": [
    {
     "data": {
      "image/png": "[encoded data removed]",
      "text/plain": [
       "<Figure size 504x360 with 1 Axes>"
      ]
     },
     "metadata": {
      "needs_background": "light"
     },
     "output_type": "display_data"
    }
   ],
   "source": [
    "roc_curve_plot(xgb_pred,test_y,xgb_prob,\"XGBoost\")"
   ]
  },
  {
   "cell_type": "code",
   "execution_count": 158,
   "id": "b4e7e738",
   "metadata": {},
   "outputs": [],
   "source": [
    "def roc_summary_plot(Y_true, Y_probability = [], model_name = []):\n",
    "    for i in range(len(Y_probability)):\n",
    "        \n",
    "        fpr, tpr, threshold1 = roc_curve(Y_true,Y_probability[i][:,1] )\n",
    "        plt.style.use(\"seaborn-white\")\n",
    "        plt.figure( num = 1, figsize = (12, 9))\n",
    "        plt.title(\"ROC scores summary (tuned model)\", fontsize = 18)\n",
    "        plt.xlabel(\"False Positive Rate\" , fontdict = {\"fontsize\": 15})\n",
    "        plt.ylabel(\"True Positive Rate\" , fontdict = {\"fontsize\": 15})\n",
    "        plt.plot(fpr, tpr, label='{0} ROC Score: {1}'.format(model_name[i] ,round(roc_auc_score(Y_true, Y_probability[i][:,1] ) ,2)))\n",
    "        plt.legend(loc = 4, fontsize =13)\n",
    "    plt.show()"
   ]
  },
  {
   "cell_type": "code",
   "execution_count": 159,
   "id": "920939df",
   "metadata": {},
   "outputs": [
    {
     "data": {
      "image/png": "[encoded data removed]",
      "text/plain": [
       "<Figure size 864x648 with 1 Axes>"
      ]
     },
     "metadata": {},
     "output_type": "display_data"
    }
   ],
   "source": [
    "roc_summary_plot(test_y,[lr_prob,knn_prob,dt_prob,gb_prob,rf_prob,xgb_prob],\n",
    "                 [\"LogisticRegression\", \"KNearestNeighbors\", \"DecisionTree\",\"Gradient Boosting\",\"Random Forest\", \"XGBClassifier\"])"
   ]
  },
  {
   "cell_type": "code",
   "execution_count": 160,
   "id": "9eada8bf",
   "metadata": {},
   "outputs": [],
   "source": [
    "table_lr = metric_table(test_y,lr_pred,lr_prob,'LogisticRegression')\n",
    "table_knn = metric_table(test_y,knn_pred,knn_prob,\"KNN\")\n",
    "table_dt = metric_table(test_y,dt_pred,dt_prob,\"Decision Tree\")\n",
    "table_gb = metric_table(test_y,gb_pred,gb_prob,\"Gradient Boosting\")\n",
    "table_rf = metric_table(test_y,knn_pred,knn_prob,\"Random Forest\")\n",
    "table_xg = metric_table(test_y,xgb_pred,xgb_prob,\"XGBoost\")\n",
    "\n",
    "summary_table = pd.concat([table_lr,table_knn,table_dt,table_gb,table_rf,table_xg])"
   ]
  },
  {
   "cell_type": "code",
   "execution_count": 161,
   "id": "f4b750c4",
   "metadata": {},
   "outputs": [
    {
     "data": {
      "text/html": [
       "<div>\n",
       "<style scoped>\n",
       "    .dataframe tbody tr th:only-of-type {\n",
       "        vertical-align: middle;\n",
       "    }\n",
       "\n",
       "    .dataframe tbody tr th {\n",
       "        vertical-align: top;\n",
       "    }\n",
       "\n",
       "    .dataframe thead th {\n",
       "        text-align: right;\n",
       "    }\n",
       "</style>\n",
       "<table border=\"1\" class=\"dataframe\">\n",
       "  <thead>\n",
       "    <tr style=\"text-align: right;\">\n",
       "      <th></th>\n",
       "      <th>model</th>\n",
       "      <th>Precision</th>\n",
       "      <th>Accuracy</th>\n",
       "      <th>Recall</th>\n",
       "      <th>F1-score</th>\n",
       "      <th>ROC_AUC</th>\n",
       "    </tr>\n",
       "  </thead>\n",
       "  <tbody>\n",
       "    <tr>\n",
       "      <th>0</th>\n",
       "      <td>LogisticRegression</td>\n",
       "      <td>0.769390</td>\n",
       "      <td>0.775638</td>\n",
       "      <td>0.782370</td>\n",
       "      <td>0.775826</td>\n",
       "      <td>0.856190</td>\n",
       "    </tr>\n",
       "    <tr>\n",
       "      <th>0</th>\n",
       "      <td>KNN</td>\n",
       "      <td>0.805945</td>\n",
       "      <td>0.813939</td>\n",
       "      <td>0.823281</td>\n",
       "      <td>0.814521</td>\n",
       "      <td>0.882064</td>\n",
       "    </tr>\n",
       "    <tr>\n",
       "      <th>0</th>\n",
       "      <td>Decision Tree</td>\n",
       "      <td>0.776961</td>\n",
       "      <td>0.787568</td>\n",
       "      <td>0.802193</td>\n",
       "      <td>0.789375</td>\n",
       "      <td>0.787677</td>\n",
       "    </tr>\n",
       "    <tr>\n",
       "      <th>0</th>\n",
       "      <td>Gradient Boosting</td>\n",
       "      <td>0.840329</td>\n",
       "      <td>0.832985</td>\n",
       "      <td>0.819064</td>\n",
       "      <td>0.829560</td>\n",
       "      <td>0.913719</td>\n",
       "    </tr>\n",
       "    <tr>\n",
       "      <th>0</th>\n",
       "      <td>Random Forest</td>\n",
       "      <td>0.805945</td>\n",
       "      <td>0.813939</td>\n",
       "      <td>0.823281</td>\n",
       "      <td>0.814521</td>\n",
       "      <td>0.882064</td>\n",
       "    </tr>\n",
       "    <tr>\n",
       "      <th>0</th>\n",
       "      <td>XGBoost</td>\n",
       "      <td>0.855753</td>\n",
       "      <td>0.855797</td>\n",
       "      <td>0.853226</td>\n",
       "      <td>0.854488</td>\n",
       "      <td>0.934868</td>\n",
       "    </tr>\n",
       "  </tbody>\n",
       "</table>\n",
       "</div>"
      ],
      "text/plain": [
       "                model  Precision  Accuracy    Recall  F1-score   ROC_AUC\n",
       "0  LogisticRegression   0.769390  0.775638  0.782370  0.775826  0.856190\n",
       "0                 KNN   0.805945  0.813939  0.823281  0.814521  0.882064\n",
       "0       Decision Tree   0.776961  0.787568  0.802193  0.789375  0.787677\n",
       "0   Gradient Boosting   0.840329  0.832985  0.819064  0.829560  0.913719\n",
       "0       Random Forest   0.805945  0.813939  0.823281  0.814521  0.882064\n",
       "0             XGBoost   0.855753  0.855797  0.853226  0.854488  0.934868"
      ]
     },
     "execution_count": 161,
     "metadata": {},
     "output_type": "execute_result"
    }
   ],
   "source": [
    "summary_table"
   ]
  },
  {
   "cell_type": "markdown",
   "id": "acef225f",
   "metadata": {},
   "source": [
    "### Feature Importance"
   ]
  },
  {
   "cell_type": "code",
   "execution_count": 162,
   "id": "68f69932",
   "metadata": {},
   "outputs": [
    {
     "name": "stdout",
     "output_type": "stream",
     "text": [
      "[0.22506723 0.12029729 0.11698667 0.12377967 0.06280825 0.01485347\n",
      " 0.02673087 0.01942039 0.11460985 0.10183011 0.07361619]\n"
     ]
    }
   ],
   "source": [
    "print(rf.feature_importances_)"
   ]
  },
  {
   "cell_type": "markdown",
   "id": "800a5335",
   "metadata": {},
   "source": [
    "###### The rf.feature_importances_ attribute provides the importance scores for each feature in a trained Random Forest model. These scores indicate how much each feature contributes to the model's predictions, allowing you to understand which features are most influential."
   ]
  },
  {
   "cell_type": "code",
   "execution_count": 163,
   "id": "4663a75e",
   "metadata": {},
   "outputs": [
    {
     "data": {
      "image/png": "[encoded data removed]",
      "text/plain": [
       "<Figure size 1152x648 with 1 Axes>"
      ]
     },
     "metadata": {},
     "output_type": "display_data"
    }
   ],
   "source": [
    "feat_importances = pd.Series(rf.feature_importances_, index=x.columns)\n",
    "plt.figure(figsize=(16, 9))\n",
    "feat_importances.nlargest(len(rf.feature_importances_)).plot(kind='bar')\n",
    "plt.xlabel('Importance score')\n",
    "plt.title('Features Importance - RandomForestRegressor')\n",
    "plt.show()"
   ]
  },
  {
   "cell_type": "code",
   "execution_count": 164,
   "id": "d565382f",
   "metadata": {},
   "outputs": [
    {
     "data": {
      "text/plain": [
       "Index(['Age', 'EstimatedSalary', 'Balance', 'CreditScore', 'IsActiveMember',\n",
       "       'NumOfProducts', 'Tenure', 'Gender_Male'],\n",
       "      dtype='object')"
      ]
     },
     "execution_count": 164,
     "metadata": {},
     "output_type": "execute_result"
    }
   ],
   "source": [
    "final_df =  feat_importances.nlargest(len(rf.feature_importances_)).index[:8]\n",
    "final_df"
   ]
  },
  {
   "cell_type": "code",
   "execution_count": 165,
   "id": "d3c945b3",
   "metadata": {},
   "outputs": [
    {
     "data": {
      "text/html": [
       "<div>\n",
       "<style scoped>\n",
       "    .dataframe tbody tr th:only-of-type {\n",
       "        vertical-align: middle;\n",
       "    }\n",
       "\n",
       "    .dataframe tbody tr th {\n",
       "        vertical-align: top;\n",
       "    }\n",
       "\n",
       "    .dataframe thead th {\n",
       "        text-align: right;\n",
       "    }\n",
       "</style>\n",
       "<table border=\"1\" class=\"dataframe\">\n",
       "  <thead>\n",
       "    <tr style=\"text-align: right;\">\n",
       "      <th></th>\n",
       "      <th>Age</th>\n",
       "      <th>Balance</th>\n",
       "      <th>CreditScore</th>\n",
       "      <th>EstimatedSalary</th>\n",
       "      <th>Gender_Male</th>\n",
       "      <th>Geography_Germany</th>\n",
       "      <th>Geography_Spain</th>\n",
       "      <th>HasCrCard</th>\n",
       "      <th>IsActiveMember</th>\n",
       "      <th>NumOfProducts</th>\n",
       "      <th>Tenure</th>\n",
       "    </tr>\n",
       "  </thead>\n",
       "  <tbody>\n",
       "    <tr>\n",
       "      <th>3055</th>\n",
       "      <td>44</td>\n",
       "      <td>115049.150000</td>\n",
       "      <td>812</td>\n",
       "      <td>165038.410000</td>\n",
       "      <td>1</td>\n",
       "      <td>0</td>\n",
       "      <td>0</td>\n",
       "      <td>1</td>\n",
       "      <td>0</td>\n",
       "      <td>2</td>\n",
       "      <td>4</td>\n",
       "    </tr>\n",
       "    <tr>\n",
       "      <th>6982</th>\n",
       "      <td>50</td>\n",
       "      <td>0.000000</td>\n",
       "      <td>753</td>\n",
       "      <td>861.400000</td>\n",
       "      <td>0</td>\n",
       "      <td>0</td>\n",
       "      <td>0</td>\n",
       "      <td>1</td>\n",
       "      <td>1</td>\n",
       "      <td>2</td>\n",
       "      <td>4</td>\n",
       "    </tr>\n",
       "    <tr>\n",
       "      <th>1853</th>\n",
       "      <td>41</td>\n",
       "      <td>167545.320000</td>\n",
       "      <td>730</td>\n",
       "      <td>128246.810000</td>\n",
       "      <td>0</td>\n",
       "      <td>0</td>\n",
       "      <td>0</td>\n",
       "      <td>1</td>\n",
       "      <td>0</td>\n",
       "      <td>1</td>\n",
       "      <td>4</td>\n",
       "    </tr>\n",
       "    <tr>\n",
       "      <th>11276</th>\n",
       "      <td>43</td>\n",
       "      <td>142328.651804</td>\n",
       "      <td>651</td>\n",
       "      <td>31401.845849</td>\n",
       "      <td>0</td>\n",
       "      <td>1</td>\n",
       "      <td>0</td>\n",
       "      <td>1</td>\n",
       "      <td>0</td>\n",
       "      <td>1</td>\n",
       "      <td>1</td>\n",
       "    </tr>\n",
       "    <tr>\n",
       "      <th>9358</th>\n",
       "      <td>29</td>\n",
       "      <td>0.000000</td>\n",
       "      <td>837</td>\n",
       "      <td>41866.260000</td>\n",
       "      <td>0</td>\n",
       "      <td>0</td>\n",
       "      <td>0</td>\n",
       "      <td>1</td>\n",
       "      <td>1</td>\n",
       "      <td>2</td>\n",
       "      <td>9</td>\n",
       "    </tr>\n",
       "    <tr>\n",
       "      <th>...</th>\n",
       "      <td>...</td>\n",
       "      <td>...</td>\n",
       "      <td>...</td>\n",
       "      <td>...</td>\n",
       "      <td>...</td>\n",
       "      <td>...</td>\n",
       "      <td>...</td>\n",
       "      <td>...</td>\n",
       "      <td>...</td>\n",
       "      <td>...</td>\n",
       "      <td>...</td>\n",
       "    </tr>\n",
       "    <tr>\n",
       "      <th>12252</th>\n",
       "      <td>45</td>\n",
       "      <td>152121.474182</td>\n",
       "      <td>568</td>\n",
       "      <td>164517.599551</td>\n",
       "      <td>0</td>\n",
       "      <td>0</td>\n",
       "      <td>0</td>\n",
       "      <td>0</td>\n",
       "      <td>0</td>\n",
       "      <td>1</td>\n",
       "      <td>4</td>\n",
       "    </tr>\n",
       "    <tr>\n",
       "      <th>1346</th>\n",
       "      <td>30</td>\n",
       "      <td>94443.770000</td>\n",
       "      <td>643</td>\n",
       "      <td>165614.400000</td>\n",
       "      <td>1</td>\n",
       "      <td>0</td>\n",
       "      <td>0</td>\n",
       "      <td>1</td>\n",
       "      <td>1</td>\n",
       "      <td>1</td>\n",
       "      <td>5</td>\n",
       "    </tr>\n",
       "    <tr>\n",
       "      <th>11646</th>\n",
       "      <td>39</td>\n",
       "      <td>159500.523844</td>\n",
       "      <td>620</td>\n",
       "      <td>80593.815952</td>\n",
       "      <td>0</td>\n",
       "      <td>0</td>\n",
       "      <td>0</td>\n",
       "      <td>1</td>\n",
       "      <td>0</td>\n",
       "      <td>1</td>\n",
       "      <td>8</td>\n",
       "    </tr>\n",
       "    <tr>\n",
       "      <th>15725</th>\n",
       "      <td>41</td>\n",
       "      <td>0.000000</td>\n",
       "      <td>644</td>\n",
       "      <td>194006.585259</td>\n",
       "      <td>0</td>\n",
       "      <td>0</td>\n",
       "      <td>0</td>\n",
       "      <td>0</td>\n",
       "      <td>0</td>\n",
       "      <td>1</td>\n",
       "      <td>6</td>\n",
       "    </tr>\n",
       "    <tr>\n",
       "      <th>3582</th>\n",
       "      <td>35</td>\n",
       "      <td>0.000000</td>\n",
       "      <td>686</td>\n",
       "      <td>8816.370000</td>\n",
       "      <td>1</td>\n",
       "      <td>0</td>\n",
       "      <td>0</td>\n",
       "      <td>1</td>\n",
       "      <td>0</td>\n",
       "      <td>1</td>\n",
       "      <td>4</td>\n",
       "    </tr>\n",
       "  </tbody>\n",
       "</table>\n",
       "<p>11148 rows × 11 columns</p>\n",
       "</div>"
      ],
      "text/plain": [
       "       Age        Balance  CreditScore  EstimatedSalary  Gender_Male  \\\n",
       "3055    44  115049.150000          812    165038.410000            1   \n",
       "6982    50       0.000000          753       861.400000            0   \n",
       "1853    41  167545.320000          730    128246.810000            0   \n",
       "11276   43  142328.651804          651     31401.845849            0   \n",
       "9358    29       0.000000          837     41866.260000            0   \n",
       "...    ...            ...          ...              ...          ...   \n",
       "12252   45  152121.474182          568    164517.599551            0   \n",
       "1346    30   94443.770000          643    165614.400000            1   \n",
       "11646   39  159500.523844          620     80593.815952            0   \n",
       "15725   41       0.000000          644    194006.585259            0   \n",
       "3582    35       0.000000          686      8816.370000            1   \n",
       "\n",
       "       Geography_Germany  Geography_Spain  HasCrCard  IsActiveMember  \\\n",
       "3055                   0                0          1               0   \n",
       "6982                   0                0          1               1   \n",
       "1853                   0                0          1               0   \n",
       "11276                  1                0          1               0   \n",
       "9358                   0                0          1               1   \n",
       "...                  ...              ...        ...             ...   \n",
       "12252                  0                0          0               0   \n",
       "1346                   0                0          1               1   \n",
       "11646                  0                0          1               0   \n",
       "15725                  0                0          0               0   \n",
       "3582                   0                0          1               0   \n",
       "\n",
       "       NumOfProducts  Tenure  \n",
       "3055               2       4  \n",
       "6982               2       4  \n",
       "1853               1       4  \n",
       "11276              1       1  \n",
       "9358               2       9  \n",
       "...              ...     ...  \n",
       "12252              1       4  \n",
       "1346               1       5  \n",
       "11646              1       8  \n",
       "15725              1       6  \n",
       "3582               1       4  \n",
       "\n",
       "[11148 rows x 11 columns]"
      ]
     },
     "execution_count": 165,
     "metadata": {},
     "output_type": "execute_result"
    }
   ],
   "source": [
    "train_x"
   ]
  },
  {
   "cell_type": "code",
   "execution_count": 166,
   "id": "f16f517d",
   "metadata": {},
   "outputs": [],
   "source": [
    "cv = StratifiedKFold(n_splits=5,random_state=123,shuffle=True)"
   ]
  },
  {
   "cell_type": "markdown",
   "id": "3f57d2fb",
   "metadata": {},
   "source": [
    "###### This code sets up a cross-validation strategy using StratifiedKFold from the sklearn.model_selection module. It creates a cross-validator object that can be used to split data into training and validation sets in a stratified manner, ensuring that each fold has the same proportion of each class."
   ]
  },
  {
   "cell_type": "markdown",
   "id": "d65d2d12",
   "metadata": {},
   "source": [
    "### Hyperparameter Tuning"
   ]
  },
  {
   "cell_type": "code",
   "execution_count": 167,
   "id": "4fff5710",
   "metadata": {},
   "outputs": [
    {
     "name": "stdout",
     "output_type": "stream",
     "text": [
      "Fitting 5 folds for each of 576 candidates, totalling 2880 fits\n"
     ]
    },
    {
     "data": {
      "text/plain": [
       "GridSearchCV(cv=5, estimator=RandomForestClassifier(), n_jobs=-1,\n",
       "             param_grid={'max_depth': array([ 2,  4,  6,  8, 10, 12, 14, 16, 18, 20, 22, 24, 26, 28, 30, 32, 34,\n",
       "       36, 38, 40, 42, 44, 46, 48]),\n",
       "                         'n_estimators': array([ 2,  4,  6,  8, 10, 12, 14, 16, 18, 20, 22, 24, 26, 28, 30, 32, 34,\n",
       "       36, 38, 40, 42, 44, 46, 48])},\n",
       "             scoring='roc_auc', verbose=True)"
      ]
     },
     "execution_count": 167,
     "metadata": {},
     "output_type": "execute_result"
    }
   ],
   "source": [
    "param_grid = {'n_estimators':np.arange(2,50,2),'max_depth':np.arange(2,50,2)}\n",
    "grid =GridSearchCV(RandomForestClassifier(),param_grid=param_grid,n_jobs=-1,cv=5,scoring='roc_auc',verbose=True)\n",
    "grid.fit(train_x_std[final_df],train_y)"
   ]
  },
  {
   "cell_type": "markdown",
   "id": "99e1cda5",
   "metadata": {},
   "source": [
    "##### This code is used to perform hyperparameter tuning for a Random Forest classifier using Grid Search with cross-validation. The goal is to find the optimal combination of n_estimators and max_depth that maximizes the model's performance as measured by the ROC AUC score."
   ]
  },
  {
   "cell_type": "code",
   "execution_count": 168,
   "id": "949eea14",
   "metadata": {},
   "outputs": [
    {
     "data": {
      "text/plain": [
       "{'max_depth': 42, 'n_estimators': 48}"
      ]
     },
     "execution_count": 168,
     "metadata": {},
     "output_type": "execute_result"
    }
   ],
   "source": [
    "grid.best_params_"
   ]
  },
  {
   "cell_type": "markdown",
   "id": "93951b09",
   "metadata": {},
   "source": [
    "##### The code grid.best_params_ is used to retrieve the best combination of hyperparameters found during the grid search. "
   ]
  },
  {
   "cell_type": "code",
   "execution_count": 169,
   "id": "1febe426",
   "metadata": {},
   "outputs": [
    {
     "data": {
      "text/html": [
       "<div>\n",
       "<style scoped>\n",
       "    .dataframe tbody tr th:only-of-type {\n",
       "        vertical-align: middle;\n",
       "    }\n",
       "\n",
       "    .dataframe tbody tr th {\n",
       "        vertical-align: top;\n",
       "    }\n",
       "\n",
       "    .dataframe thead th {\n",
       "        text-align: right;\n",
       "    }\n",
       "</style>\n",
       "<table border=\"1\" class=\"dataframe\">\n",
       "  <thead>\n",
       "    <tr style=\"text-align: right;\">\n",
       "      <th></th>\n",
       "      <th>Age</th>\n",
       "      <th>EstimatedSalary</th>\n",
       "      <th>Balance</th>\n",
       "      <th>CreditScore</th>\n",
       "      <th>IsActiveMember</th>\n",
       "      <th>NumOfProducts</th>\n",
       "      <th>Tenure</th>\n",
       "      <th>Gender_Male</th>\n",
       "    </tr>\n",
       "  </thead>\n",
       "  <tbody>\n",
       "    <tr>\n",
       "      <th>8117</th>\n",
       "      <td>34</td>\n",
       "      <td>582.590000</td>\n",
       "      <td>0.00</td>\n",
       "      <td>624</td>\n",
       "      <td>0</td>\n",
       "      <td>1</td>\n",
       "      <td>6</td>\n",
       "      <td>0</td>\n",
       "    </tr>\n",
       "    <tr>\n",
       "      <th>8265</th>\n",
       "      <td>40</td>\n",
       "      <td>160618.610000</td>\n",
       "      <td>140306.38</td>\n",
       "      <td>618</td>\n",
       "      <td>0</td>\n",
       "      <td>1</td>\n",
       "      <td>0</td>\n",
       "      <td>0</td>\n",
       "    </tr>\n",
       "    <tr>\n",
       "      <th>5455</th>\n",
       "      <td>45</td>\n",
       "      <td>189428.750000</td>\n",
       "      <td>116585.97</td>\n",
       "      <td>805</td>\n",
       "      <td>0</td>\n",
       "      <td>1</td>\n",
       "      <td>9</td>\n",
       "      <td>0</td>\n",
       "    </tr>\n",
       "    <tr>\n",
       "      <th>10787</th>\n",
       "      <td>61</td>\n",
       "      <td>130875.116015</td>\n",
       "      <td>0.00</td>\n",
       "      <td>578</td>\n",
       "      <td>0</td>\n",
       "      <td>1</td>\n",
       "      <td>2</td>\n",
       "      <td>0</td>\n",
       "    </tr>\n",
       "    <tr>\n",
       "      <th>337</th>\n",
       "      <td>33</td>\n",
       "      <td>2010.980000</td>\n",
       "      <td>0.00</td>\n",
       "      <td>649</td>\n",
       "      <td>0</td>\n",
       "      <td>2</td>\n",
       "      <td>2</td>\n",
       "      <td>1</td>\n",
       "    </tr>\n",
       "    <tr>\n",
       "      <th>...</th>\n",
       "      <td>...</td>\n",
       "      <td>...</td>\n",
       "      <td>...</td>\n",
       "      <td>...</td>\n",
       "      <td>...</td>\n",
       "      <td>...</td>\n",
       "      <td>...</td>\n",
       "      <td>...</td>\n",
       "    </tr>\n",
       "    <tr>\n",
       "      <th>6625</th>\n",
       "      <td>41</td>\n",
       "      <td>17536.820000</td>\n",
       "      <td>112119.48</td>\n",
       "      <td>657</td>\n",
       "      <td>0</td>\n",
       "      <td>1</td>\n",
       "      <td>6</td>\n",
       "      <td>0</td>\n",
       "    </tr>\n",
       "    <tr>\n",
       "      <th>9921</th>\n",
       "      <td>36</td>\n",
       "      <td>64539.640000</td>\n",
       "      <td>65349.71</td>\n",
       "      <td>757</td>\n",
       "      <td>0</td>\n",
       "      <td>1</td>\n",
       "      <td>1</td>\n",
       "      <td>1</td>\n",
       "    </tr>\n",
       "    <tr>\n",
       "      <th>2141</th>\n",
       "      <td>18</td>\n",
       "      <td>55753.120000</td>\n",
       "      <td>0.00</td>\n",
       "      <td>674</td>\n",
       "      <td>1</td>\n",
       "      <td>2</td>\n",
       "      <td>7</td>\n",
       "      <td>1</td>\n",
       "    </tr>\n",
       "    <tr>\n",
       "      <th>3214</th>\n",
       "      <td>33</td>\n",
       "      <td>19998.310000</td>\n",
       "      <td>68193.72</td>\n",
       "      <td>572</td>\n",
       "      <td>0</td>\n",
       "      <td>1</td>\n",
       "      <td>9</td>\n",
       "      <td>1</td>\n",
       "    </tr>\n",
       "    <tr>\n",
       "      <th>1626</th>\n",
       "      <td>28</td>\n",
       "      <td>7597.830000</td>\n",
       "      <td>0.00</td>\n",
       "      <td>617</td>\n",
       "      <td>1</td>\n",
       "      <td>2</td>\n",
       "      <td>0</td>\n",
       "      <td>0</td>\n",
       "    </tr>\n",
       "  </tbody>\n",
       "</table>\n",
       "<p>4778 rows × 8 columns</p>\n",
       "</div>"
      ],
      "text/plain": [
       "       Age  EstimatedSalary    Balance  CreditScore  IsActiveMember  \\\n",
       "8117    34       582.590000       0.00          624               0   \n",
       "8265    40    160618.610000  140306.38          618               0   \n",
       "5455    45    189428.750000  116585.97          805               0   \n",
       "10787   61    130875.116015       0.00          578               0   \n",
       "337     33      2010.980000       0.00          649               0   \n",
       "...    ...              ...        ...          ...             ...   \n",
       "6625    41     17536.820000  112119.48          657               0   \n",
       "9921    36     64539.640000   65349.71          757               0   \n",
       "2141    18     55753.120000       0.00          674               1   \n",
       "3214    33     19998.310000   68193.72          572               0   \n",
       "1626    28      7597.830000       0.00          617               1   \n",
       "\n",
       "       NumOfProducts  Tenure  Gender_Male  \n",
       "8117               1       6            0  \n",
       "8265               1       0            0  \n",
       "5455               1       9            0  \n",
       "10787              1       2            0  \n",
       "337                2       2            1  \n",
       "...              ...     ...          ...  \n",
       "6625               1       6            0  \n",
       "9921               1       1            1  \n",
       "2141               2       7            1  \n",
       "3214               1       9            1  \n",
       "1626               2       0            0  \n",
       "\n",
       "[4778 rows x 8 columns]"
      ]
     },
     "execution_count": 169,
     "metadata": {},
     "output_type": "execute_result"
    }
   ],
   "source": [
    "test_x[final_df]"
   ]
  },
  {
   "cell_type": "code",
   "execution_count": 170,
   "id": "bd355a5b",
   "metadata": {},
   "outputs": [],
   "source": [
    "rf = RandomForestClassifier(n_estimators=48,max_depth=42)"
   ]
  },
  {
   "cell_type": "code",
   "execution_count": 171,
   "id": "e8a6357d",
   "metadata": {},
   "outputs": [],
   "source": [
    "rf = rf.fit(train_x_std[final_df],train_y)"
   ]
  },
  {
   "cell_type": "code",
   "execution_count": 172,
   "id": "7557dfbc",
   "metadata": {},
   "outputs": [],
   "source": [
    "new_pred = rf.predict(test_x_std[final_df])\n",
    "new_prob = rf.predict_proba(test_x_std[final_df])"
   ]
  },
  {
   "cell_type": "code",
   "execution_count": 173,
   "id": "c05c68b7",
   "metadata": {},
   "outputs": [
    {
     "data": {
      "text/html": [
       "<div>\n",
       "<style scoped>\n",
       "    .dataframe tbody tr th:only-of-type {\n",
       "        vertical-align: middle;\n",
       "    }\n",
       "\n",
       "    .dataframe tbody tr th {\n",
       "        vertical-align: top;\n",
       "    }\n",
       "\n",
       "    .dataframe thead th {\n",
       "        text-align: right;\n",
       "    }\n",
       "</style>\n",
       "<table border=\"1\" class=\"dataframe\">\n",
       "  <thead>\n",
       "    <tr style=\"text-align: right;\">\n",
       "      <th></th>\n",
       "      <th>model</th>\n",
       "      <th>Precision</th>\n",
       "      <th>Accuracy</th>\n",
       "      <th>Recall</th>\n",
       "      <th>F1-score</th>\n",
       "      <th>ROC_AUC</th>\n",
       "    </tr>\n",
       "  </thead>\n",
       "  <tbody>\n",
       "    <tr>\n",
       "      <th>0</th>\n",
       "      <td>Random Forest</td>\n",
       "      <td>0.8526</td>\n",
       "      <td>0.847216</td>\n",
       "      <td>0.836778</td>\n",
       "      <td>0.844615</td>\n",
       "      <td>0.920698</td>\n",
       "    </tr>\n",
       "  </tbody>\n",
       "</table>\n",
       "</div>"
      ],
      "text/plain": [
       "           model  Precision  Accuracy    Recall  F1-score   ROC_AUC\n",
       "0  Random Forest     0.8526  0.847216  0.836778  0.844615  0.920698"
      ]
     },
     "execution_count": 173,
     "metadata": {},
     "output_type": "execute_result"
    }
   ],
   "source": [
    "metric_table(test_y,new_pred,new_prob,\"Random Forest\")"
   ]
  },
  {
   "cell_type": "code",
   "execution_count": 174,
   "id": "a42358ad",
   "metadata": {},
   "outputs": [],
   "source": [
    "XGB_parameters = {\n",
    "    'n_estimators': [100, 400],\n",
    "    'max_depth': [3, 6],\n",
    "    'learning_rate': [0.05, 0.20],\n",
    "    'min_child_weight': [1, 10]}\n",
    "\n",
    "grid_xg = GridSearchCV(estimator=XGBClassifier(),param_grid=XGB_parameters,cv=5,scoring='roc_auc',verbose=True)"
   ]
  },
  {
   "cell_type": "markdown",
   "id": "852b1a62",
   "metadata": {},
   "source": [
    "##### This code is designed to find the optimal hyperparameters for an XGBoost classifier by performing a grid search with cross-validation. The goal is to identify the best combination of n_estimators, max_depth, learning_rate, and min_child_weight that maximizes the model's performance as measured by the ROC AUC score."
   ]
  },
  {
   "cell_type": "code",
   "execution_count": 175,
   "id": "9faa0b92",
   "metadata": {},
   "outputs": [
    {
     "name": "stdout",
     "output_type": "stream",
     "text": [
      "Fitting 5 folds for each of 16 candidates, totalling 80 fits\n"
     ]
    }
   ],
   "source": [
    "grid_xg = grid_xg.fit(train_x_std[final_df],train_y)"
   ]
  },
  {
   "cell_type": "code",
   "execution_count": 176,
   "id": "fe114ece",
   "metadata": {},
   "outputs": [
    {
     "data": {
      "text/plain": [
       "{'learning_rate': 0.2,\n",
       " 'max_depth': 6,\n",
       " 'min_child_weight': 1,\n",
       " 'n_estimators': 400}"
      ]
     },
     "execution_count": 176,
     "metadata": {},
     "output_type": "execute_result"
    }
   ],
   "source": [
    "grid_xg.best_params_"
   ]
  },
  {
   "cell_type": "code",
   "execution_count": 177,
   "id": "800b55f3",
   "metadata": {},
   "outputs": [
    {
     "data": {
      "text/plain": [
       "XGBClassifier(base_score=None, booster=None, callbacks=None,\n",
       "              colsample_bylevel=None, colsample_bynode=None,\n",
       "              colsample_bytree=None, device=None, early_stopping_rounds=None,\n",
       "              enable_categorical=False, eval_metric=None, feature_types=None,\n",
       "              gamma=None, grow_policy=None, importance_type=None,\n",
       "              interaction_constraints=None, learning_rate=0.2, max_bin=None,\n",
       "              max_cat_threshold=None, max_cat_to_onehot=None,\n",
       "              max_delta_step=None, max_depth=6, max_leaves=None,\n",
       "              min_child_weight=1, missing=nan, monotone_constraints=None,\n",
       "              multi_strategy=None, n_estimators=400, n_jobs=None,\n",
       "              num_parallel_tree=None, random_state=None, ...)"
      ]
     },
     "execution_count": 177,
     "metadata": {},
     "output_type": "execute_result"
    }
   ],
   "source": [
    "best_XGB = grid_xg.best_estimator_\n",
    "best_XGB.fit(train_x[final_df], train_y)"
   ]
  },
  {
   "cell_type": "markdown",
   "id": "ea399d28",
   "metadata": {},
   "source": [
    "##### This code snippet is used to extract the best estimator (i.e., the model with the best combination of hyperparameters found during the grid search) and then fit this best model to the training data."
   ]
  },
  {
   "cell_type": "code",
   "execution_count": 178,
   "id": "15f2f6cf",
   "metadata": {},
   "outputs": [],
   "source": [
    "xg_pred_new =  best_XGB.predict(test_x[final_df])\n",
    "xg_prob_new = best_XGB.predict_proba(test_x[final_df])"
   ]
  },
  {
   "cell_type": "code",
   "execution_count": 179,
   "id": "b68846fd",
   "metadata": {},
   "outputs": [
    {
     "data": {
      "text/html": [
       "<div>\n",
       "<style scoped>\n",
       "    .dataframe tbody tr th:only-of-type {\n",
       "        vertical-align: middle;\n",
       "    }\n",
       "\n",
       "    .dataframe tbody tr th {\n",
       "        vertical-align: top;\n",
       "    }\n",
       "\n",
       "    .dataframe thead th {\n",
       "        text-align: right;\n",
       "    }\n",
       "</style>\n",
       "<table border=\"1\" class=\"dataframe\">\n",
       "  <thead>\n",
       "    <tr style=\"text-align: right;\">\n",
       "      <th></th>\n",
       "      <th>model</th>\n",
       "      <th>Precision</th>\n",
       "      <th>Accuracy</th>\n",
       "      <th>Recall</th>\n",
       "      <th>F1-score</th>\n",
       "      <th>ROC_AUC</th>\n",
       "    </tr>\n",
       "  </thead>\n",
       "  <tbody>\n",
       "    <tr>\n",
       "      <th>0</th>\n",
       "      <td>XGBoost</td>\n",
       "      <td>0.842589</td>\n",
       "      <td>0.847216</td>\n",
       "      <td>0.851118</td>\n",
       "      <td>0.846832</td>\n",
       "      <td>0.927719</td>\n",
       "    </tr>\n",
       "  </tbody>\n",
       "</table>\n",
       "</div>"
      ],
      "text/plain": [
       "     model  Precision  Accuracy    Recall  F1-score   ROC_AUC\n",
       "0  XGBoost   0.842589  0.847216  0.851118  0.846832  0.927719"
      ]
     },
     "execution_count": 179,
     "metadata": {},
     "output_type": "execute_result"
    }
   ],
   "source": [
    "metric_table(test_y,xg_pred_new,xg_prob_new,\"XGBoost\")"
   ]
  },
  {
   "cell_type": "code",
   "execution_count": 180,
   "id": "ce662e44",
   "metadata": {},
   "outputs": [
    {
     "data": {
      "text/plain": [
       "XGBClassifier(base_score=None, booster=None, callbacks=None,\n",
       "              colsample_bylevel=None, colsample_bynode=None,\n",
       "              colsample_bytree=None, device=None, early_stopping_rounds=None,\n",
       "              enable_categorical=False, eval_metric=None, feature_types=None,\n",
       "              gamma=None, grow_policy=None, importance_type=None,\n",
       "              interaction_constraints=None, learning_rate=0.2, max_bin=None,\n",
       "              max_cat_threshold=None, max_cat_to_onehot=None,\n",
       "              max_delta_step=None, max_depth=6, max_leaves=None,\n",
       "              min_child_weight=1, missing=nan, monotone_constraints=None,\n",
       "              multi_strategy=None, n_estimators=400, n_jobs=None,\n",
       "              num_parallel_tree=None, random_state=None, ...)"
      ]
     },
     "execution_count": 180,
     "metadata": {},
     "output_type": "execute_result"
    }
   ],
   "source": [
    "grid_xg.best_estimator_"
   ]
  },
  {
   "cell_type": "code",
   "execution_count": 181,
   "id": "6a45cdcf",
   "metadata": {},
   "outputs": [],
   "source": [
    "score_1 = metric_table(test_y,new_pred,new_prob,\"Random Forest\")\n",
    "score_2 = metric_table(test_y,xg_pred_new,xg_prob_new,\"XGBoost\")\n",
    "score = pd.concat([score_1,score_2])"
   ]
  },
  {
   "cell_type": "code",
   "execution_count": 182,
   "id": "80649483",
   "metadata": {},
   "outputs": [
    {
     "data": {
      "text/html": [
       "<div>\n",
       "<style scoped>\n",
       "    .dataframe tbody tr th:only-of-type {\n",
       "        vertical-align: middle;\n",
       "    }\n",
       "\n",
       "    .dataframe tbody tr th {\n",
       "        vertical-align: top;\n",
       "    }\n",
       "\n",
       "    .dataframe thead th {\n",
       "        text-align: right;\n",
       "    }\n",
       "</style>\n",
       "<table border=\"1\" class=\"dataframe\">\n",
       "  <thead>\n",
       "    <tr style=\"text-align: right;\">\n",
       "      <th></th>\n",
       "      <th>model</th>\n",
       "      <th>Precision</th>\n",
       "      <th>Accuracy</th>\n",
       "      <th>Recall</th>\n",
       "      <th>F1-score</th>\n",
       "      <th>ROC_AUC</th>\n",
       "    </tr>\n",
       "  </thead>\n",
       "  <tbody>\n",
       "    <tr>\n",
       "      <th>0</th>\n",
       "      <td>Random Forest</td>\n",
       "      <td>0.852600</td>\n",
       "      <td>0.847216</td>\n",
       "      <td>0.836778</td>\n",
       "      <td>0.844615</td>\n",
       "      <td>0.920698</td>\n",
       "    </tr>\n",
       "    <tr>\n",
       "      <th>0</th>\n",
       "      <td>XGBoost</td>\n",
       "      <td>0.842589</td>\n",
       "      <td>0.847216</td>\n",
       "      <td>0.851118</td>\n",
       "      <td>0.846832</td>\n",
       "      <td>0.927719</td>\n",
       "    </tr>\n",
       "  </tbody>\n",
       "</table>\n",
       "</div>"
      ],
      "text/plain": [
       "           model  Precision  Accuracy    Recall  F1-score   ROC_AUC\n",
       "0  Random Forest   0.852600  0.847216  0.836778  0.844615  0.920698\n",
       "0        XGBoost   0.842589  0.847216  0.851118  0.846832  0.927719"
      ]
     },
     "execution_count": 182,
     "metadata": {},
     "output_type": "execute_result"
    }
   ],
   "source": [
    "score"
   ]
  },
  {
   "cell_type": "code",
   "execution_count": 183,
   "id": "9cbca4ab",
   "metadata": {},
   "outputs": [
    {
     "data": {
      "image/png": "[encoded data removed]",
      "text/plain": [
       "<Figure size 864x648 with 1 Axes>"
      ]
     },
     "metadata": {},
     "output_type": "display_data"
    }
   ],
   "source": [
    "roc_summary_plot(test_y,[new_prob,xg_prob_new],['Random Forest','XGBoost'])"
   ]
  }
 ],
 "metadata": {
  "kernelspec": {
   "display_name": "Python 3 (ipykernel)",
   "language": "python",
   "name": "python3"
  },
  "language_info": {
   "codemirror_mode": {
    "name": "ipython",
    "version": 3
   },
   "file_extension": ".py",
   "mimetype": "text/x-python",
   "name": "python",
   "nbconvert_exporter": "python",
   "pygments_lexer": "ipython3",
   "version": "3.9.12"
  }
 },
 "nbformat": 4,
 "nbformat_minor": 5
}
